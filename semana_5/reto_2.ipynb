{
 "cells": [
  {
   "cell_type": "markdown",
   "id": "ca82f0c8-438f-4df9-9c98-d791e706159d",
   "metadata": {},
   "source": [
    "# Percolación (I)"
   ]
  },
  {
   "cell_type": "markdown",
   "id": "2d567887-ec87-4367-a688-1dc734cea31e",
   "metadata": {},
   "source": [
    "Una de las tareas más frecuentes cuando trabajas con datos es \"ordenar\" una serie o varias de datos. Así que como primer reto vas a intentar programar tu propia función para ordenar en este caso una serie de números enteros. Seguramente nunca más intentarás diseñar tu propio algoritmo para ordenar datos, encontrarás múltiples funciones en las librerías de Python que uses capaces de resolver esta tarea. Pero intentarlo tu desde cero te hará comprender el valor y el esfuerzo que hay detrás de herramientas tan comunes usadas de manera tan \"alegre\"."
   ]
  },
  {
   "cell_type": "markdown",
   "id": "0b93c42f-efcb-4970-bc61-0edcfff93a30",
   "metadata": {},
   "source": [
    "## Tarea\n",
    "\n",
    "Haz una función de Python llamada `sort` con un único argumento de entrada llamado `numbers`. La función deberá regresar la lista de números enteros que recibió como entrada (`numbers`) en orden de menor a mayor. Debes de tener en cuenta las siguientes condiciones:\n",
    "- la lista contendrá $10^7$ números enteros positivos en el rango $[0, 10^8)$.\n",
    "- no tienes límite de recursos (memoria, número de cpus, etc.) a usar para conseguir que tu algoritmo sea eficiente.\n",
    "- el algoritmo lo debes implementar haciendo uso de la sintaxis básica de Python -**NO** vale hacer uso de funciones ya programadas para ordenar que puedes encontrar en Numpy, Pandas, Scipy, etc-.\n",
    "\n",
    "Esta es la lista de números que debes ordenar:"
   ]
  },
  {
   "cell_type": "code",
   "execution_count": 1,
   "id": "c9d212c0-456c-4770-9602-7633e5dea13b",
   "metadata": {},
   "outputs": [],
   "source": [
    "import numpy as np\n",
    "\n",
    "rng = np.random.default_rng(333)\n",
    "input_random_numbers = rng.integers(low=0, high=10**8, size=10**7)"
   ]
  },
  {
   "cell_type": "code",
   "execution_count": 2,
   "id": "6ffc29eb-ec96-4254-9bd5-87bcc88201fd",
   "metadata": {},
   "outputs": [
    {
     "name": "stdout",
     "output_type": "stream",
     "text": [
      "[30054056 91900182 41637891 ...  5150345 25101977 61734715]\n"
     ]
    }
   ],
   "source": [
    "print(input_random_numbers)"
   ]
  },
  {
   "cell_type": "markdown",
   "id": "397c94fd-c45b-4e08-bc66-f44b98f6519c",
   "metadata": {},
   "source": [
    "Ahora es tu turno escribir tu función para ordenar esa lista:"
   ]
  },
  {
   "cell_type": "code",
   "execution_count": 3,
   "id": "89619931-9d7c-4878-9174-87f4167f1cb9",
   "metadata": {},
   "outputs": [],
   "source": [
    "def sort(numbers):\n",
    "    \n",
    "    #### Escribe aquí tu propuesta ####\n",
    "    \n",
    "    return sorted_numbers # 'sorted_numbers' o el nombre de la variable de salida que tu elijas"
   ]
  },
  {
   "cell_type": "markdown",
   "id": "755fcaee-6908-4728-8b3b-a2d23696b08b",
   "metadata": {},
   "source": [
    "¿Ya tienes una propuesta que funciona? Genial! ¿Puedes calcular cuanto espacio en memoria ocupa el numpy.array `input_random_numbers`? O dicho de otra manera... ¿Cuanta memoria consumen $10^7$ enteros?"
   ]
  },
  {
   "cell_type": "code",
   "execution_count": 4,
   "id": "dcdb7b74-e87d-418f-b672-87c2ff444236",
   "metadata": {},
   "outputs": [],
   "source": [
    "### ES TU TURNO\n",
    "### -----------------------------------\n",
    "### Resuelve aquí la propuesta anterior\n",
    "### en una o varias celdas\n"
   ]
  },
  {
   "cell_type": "markdown",
   "id": "a24b4bb4-affe-42b9-8ce6-f7b5b4e5edd4",
   "metadata": {},
   "source": [
    "¿Y puedes calcular cuanto tiempo le cuesta a tu función ordenar los $10^7$ enteros de `input_random_numbers`?"
   ]
  },
  {
   "cell_type": "code",
   "execution_count": 5,
   "id": "7d491f6c-4509-4c9d-94c6-86cd515a6d11",
   "metadata": {},
   "outputs": [],
   "source": [
    "### ES TU TURNO\n",
    "### -----------------------------------\n",
    "### Resuelve aquí la propuesta anterior\n",
    "### en una o varias celdas\n"
   ]
  },
  {
   "cell_type": "markdown",
   "id": "9ed7c91a-5f4d-45db-9864-7937012c7259",
   "metadata": {},
   "source": [
    "Ahora si, prueba por ejemplo la función [`sort` de la librería Numpy](https://numpy.org/doc/stable/reference/generated/numpy.sort.html) y calcula cuanto tiempo menos le cuesta a ella que a tu función:"
   ]
  },
  {
   "cell_type": "code",
   "execution_count": 6,
   "id": "9e1be3ad-9c47-41a8-a7cb-5af17e7f1438",
   "metadata": {},
   "outputs": [
    {
     "name": "stdout",
     "output_type": "stream",
     "text": [
      "CPU times: user 992 ms, sys: 128 ms, total: 1.12 s\n",
      "Wall time: 1.13 s\n"
     ]
    }
   ],
   "source": [
    "%%time\n",
    "sorted_numbers = np.sort(input_random_numbers)"
   ]
  },
  {
   "cell_type": "markdown",
   "id": "a4af2f82-e7a6-413f-a7c2-fac02f28b77f",
   "metadata": {},
   "source": [
    "¿Por qué crees que es más rápida?"
   ]
  },
  {
   "cell_type": "markdown",
   "id": "a93a65d7-072c-430f-b09a-1034b25843c7",
   "metadata": {},
   "source": [
    "> Contesta aquí mismo"
   ]
  }
 ],
 "metadata": {
  "kernelspec": {
   "display_name": "Python 3 (ipykernel)",
   "language": "python",
   "name": "python3"
  },
  "language_info": {
   "codemirror_mode": {
    "name": "ipython",
    "version": 3
   },
   "file_extension": ".py",
   "mimetype": "text/x-python",
   "name": "python",
   "nbconvert_exporter": "python",
   "pygments_lexer": "ipython3",
   "version": "3.10.10"
  }
 },
 "nbformat": 4,
 "nbformat_minor": 5
}
