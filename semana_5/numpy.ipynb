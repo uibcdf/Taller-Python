{
 "cells": [
  {
   "cell_type": "markdown",
   "metadata": {},
   "source": [
    ":::{figure} numpylogo.png\n",
    ":align: center\n",
    ":width: 50%\n",
    ":::\n",
    "\n",
    "<br>\n",
    "\n",
    "# NumPy"
   ]
  },
  {
   "cell_type": "markdown",
   "metadata": {},
   "source": [
    "## ¿Qué es NumPy?\n",
    "\n",
    "NumPy es una librería externa de Python diseñada específicamente para el cálculo científico que facilita el trabajo eficiente con vectores, matrices, números aleatorios, cálculos matemáticos y operaciones de álgebra lineal entre otras cosas.\n",
    "\n",
    "Habíamos mencionado en la introducción a Python que los lenguages interpretados no son computacionalmente eficientes, ni son rápidos ni gestionan optimamente la memoria. Para superar este inconveniente se pueden programar librerías que trabajan como envoltorios de Python para módulos compilados en otros lenguages. Este es el caso de NumPy cuyo nucleo está programado, y por lo tanto compilado, con C. Además NumPy puede servirnos como [interpretador de librerías en C o Fortran](https://www.numpy.org/devdocs/user/c-info.python-as-glue.html) para poder [invocarlas desde nuestro script en Python](https://scipy-cookbook.readthedocs.io/items/idx_interfacing_with_other_languages.html).\n",
    "\n",
    "Puede que NumPy sea la librería de Python más popular. La mayoría de librerías que puedes encontrar tiene a NumPy como dependencia.\n",
    "\n",
    "<br>\n",
    "<center>\n",
    "<img src=\"https://imgs.xkcd.com/comics/matrix_transform.png\" width=\"350\">\n",
    "</center>\n",
    "<br>"
   ]
  },
  {
   "cell_type": "markdown",
   "metadata": {},
   "source": [
    "## ¿Cómo se instala?\n",
    "\n",
    "NumPy suele instalarse automáticamente como dependencia con cualquier librería. No obstante, si no tienes NumPy ya instalado en tu entorno de conda:\n",
    "\n",
    "```bash\n",
    "conda install numpy\n",
    "```\n",
    "\n",
    "## ¿Cómo se usa?\n",
    "\n",
    "### Importando NumPy\n",
    "\n",
    "Existe el convenio de importar NumPy con el alias `np`. Esto mismo sucede con otras librerías, que por su frecuente uso recomiendan un alias de pocos caracteres para invocarlo tecleando poco."
   ]
  },
  {
   "cell_type": "code",
   "execution_count": null,
   "metadata": {},
   "outputs": [],
   "source": [
    "import numpy as np"
   ]
  },
  {
   "cell_type": "markdown",
   "metadata": {},
   "source": [
    "### Vectores\n",
    "\n",
    "El objeto más sencillo y popular de NumPy es su vector multidimensional (*ndarray*). Puedes pensar que un *ndarray*, del inglés *n-dimensional array*, es como una lista o una tupla, pero es mucho más que eso. Es una de las maneras más eficientes de manejar datos en memoria y operar con ellos.\n",
    "\n",
    "Veamos primero como convertir una lista a un *ndarray*:"
   ]
  },
  {
   "cell_type": "code",
   "execution_count": null,
   "metadata": {},
   "outputs": [],
   "source": [
    "una_lista = [2,4,6,8,10]"
   ]
  },
  {
   "cell_type": "code",
   "execution_count": null,
   "metadata": {},
   "outputs": [],
   "source": [
    "un_vector = np.array(una_lista)"
   ]
  },
  {
   "cell_type": "code",
   "execution_count": null,
   "metadata": {},
   "outputs": [],
   "source": [
    "type(un_vector)"
   ]
  },
  {
   "cell_type": "code",
   "execution_count": null,
   "metadata": {},
   "outputs": [],
   "source": [
    "un_vector"
   ]
  },
  {
   "cell_type": "code",
   "execution_count": null,
   "metadata": {},
   "outputs": [],
   "source": [
    "print(un_vector)"
   ]
  },
  {
   "cell_type": "markdown",
   "metadata": {},
   "source": [
    "A diferencia de las listas y tuplas, los *ndarrays* no son 'expandibles', pero esto los hace eficientes en memoria y de rápida lectura."
   ]
  },
  {
   "cell_type": "code",
   "execution_count": null,
   "metadata": {},
   "outputs": [],
   "source": [
    "# Esto quizá es lo único que puedes echar de menos de trabajar con listas.\n",
    "# Ya que nose puede hacer con ndarrays.\n",
    "una_lista.append(12)\n",
    "print(una_lista)"
   ]
  },
  {
   "cell_type": "markdown",
   "metadata": {},
   "source": [
    "Los `ndarrays` tiene una forma fija:"
   ]
  },
  {
   "cell_type": "code",
   "execution_count": null,
   "metadata": {},
   "outputs": [],
   "source": [
    "un_vector.shape"
   ]
  },
  {
   "cell_type": "markdown",
   "metadata": {},
   "source": [
    "Podemos inicializar vectores de forma o dimensión deseada sin necesidad de recurrir a una lista:"
   ]
  },
  {
   "cell_type": "code",
   "execution_count": null,
   "metadata": {},
   "outputs": [],
   "source": [
    "vec_1 = np.empty(10)"
   ]
  },
  {
   "cell_type": "code",
   "execution_count": null,
   "metadata": {},
   "outputs": [],
   "source": [
    "vec_1.shape"
   ]
  },
  {
   "cell_type": "code",
   "execution_count": null,
   "metadata": {},
   "outputs": [],
   "source": [
    "vec_1"
   ]
  },
  {
   "cell_type": "markdown",
   "metadata": {},
   "source": [
    "El método `np.empty()` reserva el espacio en memoria que aloja el vector, pero no se ocupa de inicializarlo con ningún valor. Es por eso que si lo leemos, antes de haber asignado valores, su contenido es meramente ruido.\n",
    "\n",
    "Para inicializar algo directamente con valores cero podemos usar `np.zeros()`, y para hacerlo con unos podemos usar `np.ones()`."
   ]
  },
  {
   "cell_type": "code",
   "execution_count": null,
   "metadata": {},
   "outputs": [],
   "source": [
    "vec_1 = np.zeros(6)\n",
    "vec_2 = np.ones(8)"
   ]
  },
  {
   "cell_type": "code",
   "execution_count": null,
   "metadata": {},
   "outputs": [],
   "source": [
    "vec_1"
   ]
  },
  {
   "cell_type": "code",
   "execution_count": null,
   "metadata": {},
   "outputs": [],
   "source": [
    "vec_2"
   ]
  },
  {
   "cell_type": "markdown",
   "metadata": {},
   "source": [
    "Al igual que las variables de Python, los *ndarrays* pueden ser de números enteros, de coma flotante, de doble precisión, de carácteres, variables lógicas, etc. Puedes checar [aquí](https://www.numpy.org/devdocs/user/basics.types.html) la lista de posibles tipos."
   ]
  },
  {
   "cell_type": "code",
   "execution_count": null,
   "metadata": {},
   "outputs": [],
   "source": [
    "vec_1.dtype"
   ]
  },
  {
   "cell_type": "code",
   "execution_count": null,
   "metadata": {},
   "outputs": [],
   "source": [
    "vector_auxiliar = np.zeros(4,dtype=bool) # En lógica 0 ~ False y 1 ~ True\n",
    "print(vector_auxiliar)\n",
    "vector_auxiliar = np.ones(3,dtype=bool)\n",
    "print(vector_auxiliar)"
   ]
  },
  {
   "cell_type": "code",
   "execution_count": null,
   "metadata": {},
   "outputs": [],
   "source": [
    "vector_auxiliar = np.zeros(4,dtype=int)\n",
    "print(vector_auxiliar)"
   ]
  },
  {
   "cell_type": "code",
   "execution_count": null,
   "metadata": {},
   "outputs": [],
   "source": [
    "vector_auxiliar = np.zeros(4,dtype=complex)\n",
    "print(vector_auxiliar)"
   ]
  },
  {
   "cell_type": "code",
   "execution_count": null,
   "metadata": {},
   "outputs": [],
   "source": [
    "vector_auxiliar = np.zeros(4,dtype='float64')\n",
    "print(vector_auxiliar)"
   ]
  },
  {
   "cell_type": "code",
   "execution_count": null,
   "metadata": {},
   "outputs": [],
   "source": [
    "vector_auxiliar = np.zeros(4,dtype='S3') # para str\n",
    "print(vector_auxiliar)"
   ]
  },
  {
   "cell_type": "markdown",
   "metadata": {},
   "source": [
    "Estos objetos tienen también métodos y atributos muy útiles. Hemos visto `shape`, pero hay muchos más. "
   ]
  },
  {
   "cell_type": "code",
   "execution_count": null,
   "metadata": {},
   "outputs": [],
   "source": [
    "dir(vec_1)"
   ]
  },
  {
   "cell_type": "markdown",
   "metadata": {},
   "source": [
    "Por ejemplo vamos a ver `max`, `argmax`,`mean` o `std`:"
   ]
  },
  {
   "cell_type": "code",
   "execution_count": null,
   "metadata": {},
   "outputs": [],
   "source": [
    "vec_1 = np.array([6.0, 10.0, 2.0, 5.0, 7.0, 5.0], dtype=float)\n",
    "print(vec_1)"
   ]
  },
  {
   "cell_type": "code",
   "execution_count": null,
   "metadata": {},
   "outputs": [],
   "source": [
    "help(vec_1.max)"
   ]
  },
  {
   "cell_type": "code",
   "execution_count": null,
   "metadata": {},
   "outputs": [],
   "source": [
    "vec_1.max() # devuelve el máximo valor tomado por el vector"
   ]
  },
  {
   "cell_type": "code",
   "execution_count": null,
   "metadata": {},
   "outputs": [],
   "source": [
    "help(vec_1.argmax)"
   ]
  },
  {
   "cell_type": "code",
   "execution_count": null,
   "metadata": {},
   "outputs": [],
   "source": [
    "vec_1.argmax() # devuelve la posición en la que se encuentra el valor máximo"
   ]
  },
  {
   "cell_type": "code",
   "execution_count": null,
   "metadata": {},
   "outputs": [],
   "source": [
    "help(vec_1.mean)"
   ]
  },
  {
   "cell_type": "code",
   "execution_count": null,
   "metadata": {},
   "outputs": [],
   "source": [
    "vec_1.mean() # devuelve la media aritmética"
   ]
  },
  {
   "cell_type": "code",
   "execution_count": null,
   "metadata": {},
   "outputs": [],
   "source": [
    "help(vec_1.std)"
   ]
  },
  {
   "cell_type": "code",
   "execution_count": null,
   "metadata": {},
   "outputs": [],
   "source": [
    "vec_1.std() # devuelve la desviación estandard"
   ]
  },
  {
   "cell_type": "markdown",
   "metadata": {},
   "source": [
    "### Matrices y vectores multidimensionales\n",
    "\n",
    "Al comienzo de la sección pasada hemos revelado que *ndarray* viene del inglés *n-dimensional array* (vector n-dimensional, en español). Probablemente sospeches que en realidad podíamos haber definido un objeto *ndarray* de cualquier forma y dimensiones."
   ]
  },
  {
   "cell_type": "code",
   "execution_count": null,
   "metadata": {},
   "outputs": [],
   "source": [
    "matriz = np.zeros((3,3),dtype=int)"
   ]
  },
  {
   "cell_type": "code",
   "execution_count": null,
   "metadata": {},
   "outputs": [],
   "source": [
    "matriz.shape"
   ]
  },
  {
   "cell_type": "code",
   "execution_count": null,
   "metadata": {},
   "outputs": [],
   "source": [
    "matriz"
   ]
  },
  {
   "cell_type": "code",
   "execution_count": null,
   "metadata": {},
   "outputs": [],
   "source": [
    "otra_matriz = np.ones((2,4))"
   ]
  },
  {
   "cell_type": "code",
   "execution_count": null,
   "metadata": {},
   "outputs": [],
   "source": [
    "otra_matriz.shape"
   ]
  },
  {
   "cell_type": "code",
   "execution_count": null,
   "metadata": {},
   "outputs": [],
   "source": [
    "otra_matriz"
   ]
  },
  {
   "cell_type": "code",
   "execution_count": null,
   "metadata": {},
   "outputs": [],
   "source": [
    "la_matriz_transpuesta = otra_matriz.T"
   ]
  },
  {
   "cell_type": "code",
   "execution_count": null,
   "metadata": {},
   "outputs": [],
   "source": [
    "la_matriz_transpuesta.shape"
   ]
  },
  {
   "cell_type": "code",
   "execution_count": null,
   "metadata": {},
   "outputs": [],
   "source": [
    "la_matriz_transpuesta"
   ]
  },
  {
   "cell_type": "code",
   "execution_count": null,
   "metadata": {},
   "outputs": [],
   "source": [
    "un_tensor_de_rango_3 = np.zeros((2,3,5),dtype=bool)"
   ]
  },
  {
   "cell_type": "code",
   "execution_count": null,
   "metadata": {},
   "outputs": [],
   "source": [
    "un_tensor_de_rango_3.shape"
   ]
  },
  {
   "cell_type": "code",
   "execution_count": null,
   "metadata": {},
   "outputs": [],
   "source": [
    "un_tensor_de_rango_3"
   ]
  },
  {
   "cell_type": "code",
   "execution_count": null,
   "metadata": {},
   "outputs": [],
   "source": [
    "un_tensor_de_rango_5 = np.zeros((2,3,2,4,3))"
   ]
  },
  {
   "cell_type": "code",
   "execution_count": null,
   "metadata": {},
   "outputs": [],
   "source": [
    "un_tensor_de_rango_5.shape"
   ]
  },
  {
   "cell_type": "code",
   "execution_count": null,
   "metadata": {},
   "outputs": [],
   "source": [
    "un_tensor_de_rango_5"
   ]
  },
  {
   "cell_type": "markdown",
   "metadata": {},
   "source": [
    "### Indexado y cortes de un *ndarray*"
   ]
  },
  {
   "cell_type": "markdown",
   "metadata": {},
   "source": [
    "Veamos como podemos acceder a los elementos de un *ndarray*:"
   ]
  },
  {
   "cell_type": "code",
   "execution_count": null,
   "metadata": {},
   "outputs": [],
   "source": [
    "vector = np.array([4,2,6,1,8,9,3])"
   ]
  },
  {
   "cell_type": "code",
   "execution_count": null,
   "metadata": {},
   "outputs": [],
   "source": [
    "vector[0]"
   ]
  },
  {
   "cell_type": "code",
   "execution_count": null,
   "metadata": {},
   "outputs": [],
   "source": [
    "vector[3]"
   ]
  },
  {
   "cell_type": "code",
   "execution_count": null,
   "metadata": {},
   "outputs": [],
   "source": [
    "vector[-1]"
   ]
  },
  {
   "cell_type": "code",
   "execution_count": null,
   "metadata": {},
   "outputs": [],
   "source": [
    "vector[-4]"
   ]
  },
  {
   "cell_type": "code",
   "execution_count": null,
   "metadata": {},
   "outputs": [],
   "source": [
    "vector[[1,2,4,5]] # podemos también usar listas de índices"
   ]
  },
  {
   "cell_type": "code",
   "execution_count": null,
   "metadata": {},
   "outputs": [],
   "source": [
    "matriz = np.zeros((3,3),dtype=int)"
   ]
  },
  {
   "cell_type": "code",
   "execution_count": null,
   "metadata": {},
   "outputs": [],
   "source": [
    "matriz[0,0] = 5\n",
    "matriz[1,2] = 2\n",
    "matriz [2,[0,1]] = 1"
   ]
  },
  {
   "cell_type": "code",
   "execution_count": null,
   "metadata": {},
   "outputs": [],
   "source": [
    "matriz"
   ]
  },
  {
   "cell_type": "markdown",
   "metadata": {},
   "source": [
    "Puedo delimitar cortes y fragmentar definiendo regiones. Para esto usamos el símbolo ':'."
   ]
  },
  {
   "cell_type": "code",
   "execution_count": null,
   "metadata": {},
   "outputs": [],
   "source": [
    "vector = np.array([10, 9, 8, 7, 6, 5, 4, 3])"
   ]
  },
  {
   "cell_type": "code",
   "execution_count": null,
   "metadata": {},
   "outputs": [],
   "source": [
    "vector[:] # sólo con ':' no estamos estableciendo límites en esta dimensión"
   ]
  },
  {
   "cell_type": "code",
   "execution_count": null,
   "metadata": {},
   "outputs": [],
   "source": [
    "vector[2:]"
   ]
  },
  {
   "cell_type": "code",
   "execution_count": null,
   "metadata": {},
   "outputs": [],
   "source": [
    "vector[:4]"
   ]
  },
  {
   "cell_type": "code",
   "execution_count": null,
   "metadata": {},
   "outputs": [],
   "source": [
    "vector[2:4]"
   ]
  },
  {
   "cell_type": "code",
   "execution_count": null,
   "metadata": {},
   "outputs": [],
   "source": [
    "vector[-2:]"
   ]
  },
  {
   "cell_type": "code",
   "execution_count": null,
   "metadata": {},
   "outputs": [],
   "source": [
    "vector[-4:-1]"
   ]
  },
  {
   "cell_type": "markdown",
   "metadata": {},
   "source": [
    "Podemos también decidir cada cuento saco valores en el corte con un segundo símbolo ':'."
   ]
  },
  {
   "cell_type": "code",
   "execution_count": null,
   "metadata": {},
   "outputs": [],
   "source": [
    "vector[::]"
   ]
  },
  {
   "cell_type": "code",
   "execution_count": null,
   "metadata": {},
   "outputs": [],
   "source": [
    "vector[::2]"
   ]
  },
  {
   "cell_type": "code",
   "execution_count": null,
   "metadata": {},
   "outputs": [],
   "source": [
    "vector[::3]"
   ]
  },
  {
   "cell_type": "code",
   "execution_count": null,
   "metadata": {},
   "outputs": [],
   "source": [
    "vector[1:6:]"
   ]
  },
  {
   "cell_type": "code",
   "execution_count": null,
   "metadata": {},
   "outputs": [],
   "source": [
    "vector[1:6:2]"
   ]
  },
  {
   "cell_type": "code",
   "execution_count": null,
   "metadata": {},
   "outputs": [],
   "source": [
    "vector[-1:-6:-2]"
   ]
  },
  {
   "cell_type": "markdown",
   "metadata": {},
   "source": [
    "Y esto es extensible a *ndarrays* de veras multidimensionales."
   ]
  },
  {
   "cell_type": "code",
   "execution_count": null,
   "metadata": {},
   "outputs": [],
   "source": [
    "un_tensor = np.zeros((2,4,7))"
   ]
  },
  {
   "cell_type": "code",
   "execution_count": null,
   "metadata": {},
   "outputs": [],
   "source": [
    "un_tensor"
   ]
  },
  {
   "cell_type": "code",
   "execution_count": null,
   "metadata": {},
   "outputs": [],
   "source": [
    "un_tensor[0,1,3] = 8.0"
   ]
  },
  {
   "cell_type": "code",
   "execution_count": null,
   "metadata": {},
   "outputs": [],
   "source": [
    "un_tensor[1,2,:] = -10.0"
   ]
  },
  {
   "cell_type": "code",
   "execution_count": null,
   "metadata": {},
   "outputs": [],
   "source": [
    "un_tensor[0,2:3,1:7:2] = 1.0"
   ]
  },
  {
   "cell_type": "code",
   "execution_count": null,
   "metadata": {},
   "outputs": [],
   "source": [
    "un_tensor[:,0,6] = 4"
   ]
  },
  {
   "cell_type": "code",
   "execution_count": null,
   "metadata": {},
   "outputs": [],
   "source": [
    "un_tensor"
   ]
  },
  {
   "cell_type": "code",
   "execution_count": null,
   "metadata": {},
   "outputs": [],
   "source": [
    "un_tensor[0]"
   ]
  },
  {
   "cell_type": "code",
   "execution_count": null,
   "metadata": {},
   "outputs": [],
   "source": [
    "un_tensor[0,1,:]"
   ]
  },
  {
   "cell_type": "code",
   "execution_count": null,
   "metadata": {},
   "outputs": [],
   "source": [
    "un_tensor[:,0,2:4]"
   ]
  },
  {
   "cell_type": "markdown",
   "metadata": {},
   "source": [
    "El resultado de indexar o cortar es un nuevo *ndarray*. Así que podemos también aplicar los métodos y atributos que vimos en la sección anterior:"
   ]
  },
  {
   "cell_type": "code",
   "execution_count": null,
   "metadata": {},
   "outputs": [],
   "source": [
    "un_tensor[0].max()"
   ]
  },
  {
   "cell_type": "code",
   "execution_count": null,
   "metadata": {},
   "outputs": [],
   "source": [
    "un_tensor[:,0,2:4].mean()"
   ]
  },
  {
   "cell_type": "markdown",
   "metadata": {},
   "source": [
    "### Copias o vistas de un `ndarray`."
   ]
  },
  {
   "cell_type": "markdown",
   "metadata": {},
   "source": [
    "Este punto es muy relevante y no tenerlo presente puede crear desastrosos errores de dificil detección en tu código. No se trata de algo inherente a NumPy, más bien es inherente a Python. Mejor que comenzar explicándo la diferencia entre una [copia y vista](https://scipy-cookbook.readthedocs.io/items/ViewsVsCopies.html) (un objeto que apunta o refiere a otro), vamos a dejar que tu solo o sola comiences a inferirlo en el siguiente ejemplo con listas -no son objetos propios de NumPy, ¿cierto?-:"
   ]
  },
  {
   "cell_type": "code",
   "execution_count": null,
   "metadata": {},
   "outputs": [],
   "source": [
    "a = [0,1,2]\n",
    "b = a\n",
    "b[1] = -7\n",
    "\n",
    "print(a)\n",
    "print(b)"
   ]
  },
  {
   "cell_type": "code",
   "execution_count": null,
   "metadata": {},
   "outputs": [],
   "source": [
    "a = [0,1,2]\n",
    "b = a.copy()\n",
    "b[1] = -7\n",
    "\n",
    "print(a)\n",
    "print(b)"
   ]
  },
  {
   "cell_type": "markdown",
   "metadata": {},
   "source": [
    "¿Entiendes la diferencia? Un objeto está compuesto por el nombre de la variable (`a` o `b`), su valor almacenado en un segmento de la memoria física de la computadora ([0,1,2] en el caso inicial de `a`), y la dirección o referencia de dicho segmento. Es decir, cuando invocamos `a` la computadora mira cuál es la dirección del segmento físico de memoria y comienza a leer su contenido (el valor de la variable).\n",
    "\n",
    "En Python podemos acceder a la dirección o referencia de una variable y sacarlo por pantalla:"
   ]
  },
  {
   "cell_type": "code",
   "execution_count": null,
   "metadata": {},
   "outputs": [],
   "source": [
    "id(a)"
   ]
  },
  {
   "cell_type": "markdown",
   "metadata": {},
   "source": [
    "Vamos a ayudarnos del método `id` que nos ofrece la dirección del objeto para darle un segundo vistazo a los ejemplos anteriores:"
   ]
  },
  {
   "cell_type": "code",
   "execution_count": null,
   "metadata": {},
   "outputs": [],
   "source": [
    "a = [0,1,2]\n",
    "b = a\n",
    "print('La dirección de a es:', id(a))\n",
    "print('La dirección de b es:', id(b))\n",
    "print(' ')\n",
    "\n",
    "b[1] = -7\n",
    "\n",
    "print('El valor de a es:', a)\n",
    "print('La valor de b es:', b)"
   ]
  },
  {
   "cell_type": "code",
   "execution_count": null,
   "metadata": {},
   "outputs": [],
   "source": [
    "a = [0,1,2]\n",
    "b = a.copy()\n",
    "print('La dirección de a es:', id(a))\n",
    "print('La dirección de b es:', id(b))\n",
    "print(' ')\n",
    "\n",
    "b[1] = -7\n",
    "\n",
    "print('El valor de a es:', a)\n",
    "print('La valor de b es:', b)"
   ]
  },
  {
   "cell_type": "markdown",
   "metadata": {},
   "source": [
    "En el primer caso, el símbolo '=' crea un objeto `b` que apunta al mismo segmento de memoria. A esto lo podemos llamar 'vista' o 'referencia', ya que sólo se diferencia de `a` en el nombre.\n",
    "\n",
    "En el segundo caso, `a.copy()` está generando una copia real física: un duplicado del segmento de memoria de `a` en otra región del espacio memoria y por lo tanto con otra dirección. Al hacer `b = a.copy()`, le estamos asignando al nombre de variable `b`, ese nuevo espacio de memoria. Esto se llama 'copia'."
   ]
  },
  {
   "cell_type": "markdown",
   "metadata": {},
   "source": [
    "Con un *ndarray* sucede exactamente lo mismo, con un pequeño matiz que veremos más adelante y que aunque te parezca molesto, resulta muy util."
   ]
  },
  {
   "cell_type": "code",
   "execution_count": null,
   "metadata": {},
   "outputs": [],
   "source": [
    "a = np.array([2,4,6])\n",
    "b = a\n",
    "print('La dirección de a es:', id(a))\n",
    "print('La dirección de b es:', id(b))\n",
    "print(' ')\n",
    "\n",
    "b[2] = 0\n",
    "\n",
    "print('El valor de a es:', a)\n",
    "print('La valor de b es:', b)"
   ]
  },
  {
   "cell_type": "code",
   "execution_count": null,
   "metadata": {},
   "outputs": [],
   "source": [
    "a = np.array([2,4,6])\n",
    "b = a.copy()\n",
    "print('La dirección de a es:', id(a))\n",
    "print('La dirección de b es:', id(b))\n",
    "print(' ')\n",
    "\n",
    "b[2] = 0\n",
    "\n",
    "print('El valor de a es:', a)\n",
    "print('La valor de b es:', b)"
   ]
  },
  {
   "cell_type": "markdown",
   "metadata": {},
   "source": [
    "El matiz que comentabamos anteriormente es que los *ndarray* nos permiten generar nuevas 'vistas' que apuntan a regiones definidas por cortes:"
   ]
  },
  {
   "cell_type": "code",
   "execution_count": null,
   "metadata": {},
   "outputs": [],
   "source": [
    "a = np.array([[2,2,2],[4,4,4],[6,6,6]],dtype=int)"
   ]
  },
  {
   "cell_type": "code",
   "execution_count": null,
   "metadata": {},
   "outputs": [],
   "source": [
    "a"
   ]
  },
  {
   "cell_type": "code",
   "execution_count": null,
   "metadata": {},
   "outputs": [],
   "source": [
    "a.shape"
   ]
  },
  {
   "cell_type": "code",
   "execution_count": null,
   "metadata": {},
   "outputs": [],
   "source": [
    "b = a[1:,1:]"
   ]
  },
  {
   "cell_type": "code",
   "execution_count": null,
   "metadata": {},
   "outputs": [],
   "source": [
    "b"
   ]
  },
  {
   "cell_type": "code",
   "execution_count": null,
   "metadata": {},
   "outputs": [],
   "source": [
    "b.shape"
   ]
  },
  {
   "cell_type": "code",
   "execution_count": null,
   "metadata": {},
   "outputs": [],
   "source": [
    "b[:,:] = 0"
   ]
  },
  {
   "cell_type": "code",
   "execution_count": null,
   "metadata": {},
   "outputs": [],
   "source": [
    "b"
   ]
  },
  {
   "cell_type": "code",
   "execution_count": null,
   "metadata": {},
   "outputs": [],
   "source": [
    "a"
   ]
  },
  {
   "cell_type": "code",
   "execution_count": null,
   "metadata": {},
   "outputs": [],
   "source": [
    "b[0,0] = 1"
   ]
  },
  {
   "cell_type": "code",
   "execution_count": null,
   "metadata": {},
   "outputs": [],
   "source": [
    "b"
   ]
  },
  {
   "cell_type": "code",
   "execution_count": null,
   "metadata": {},
   "outputs": [],
   "source": [
    "a"
   ]
  },
  {
   "cell_type": "code",
   "execution_count": null,
   "metadata": {},
   "outputs": [],
   "source": [
    "a[2,:] = -1"
   ]
  },
  {
   "cell_type": "code",
   "execution_count": null,
   "metadata": {},
   "outputs": [],
   "source": [
    "a"
   ]
  },
  {
   "cell_type": "code",
   "execution_count": null,
   "metadata": {},
   "outputs": [],
   "source": [
    "b"
   ]
  },
  {
   "cell_type": "markdown",
   "metadata": {},
   "source": [
    "Cuando se quiera duplicar un objeto *ndarray* generando una copia independiente, hay que recordar que se debe recurrir al método `ndarray.copy()`.\n"
   ]
  },
  {
   "cell_type": "markdown",
   "metadata": {},
   "source": [
    "### Manipulación de *ndarrays*\n",
    "\n",
    "Podemos cambiar la forma de los *ndarrays*, combinarlos, etc."
   ]
  },
  {
   "cell_type": "code",
   "execution_count": null,
   "metadata": {},
   "outputs": [],
   "source": [
    "matrix_1 = np.array([[1, 3, 5, 7], [2, 4, 6, 8]])"
   ]
  },
  {
   "cell_type": "code",
   "execution_count": null,
   "metadata": {},
   "outputs": [],
   "source": [
    "matrix_2 = matrix_1.T # La transpuesta intercambia las filas y las columnas\n",
    "print(matrix_2)"
   ]
  },
  {
   "cell_type": "code",
   "execution_count": null,
   "metadata": {},
   "outputs": [],
   "source": [
    "matrix_2 = matrix_1.ravel() # Función de aplanado\n",
    "print(matrix_2)"
   ]
  },
  {
   "cell_type": "code",
   "execution_count": null,
   "metadata": {},
   "outputs": [],
   "source": [
    "matrix_2 = np.array([1, 3, 5, 7, 2, 4, 6, 8]).reshape((2,4)) # Cambia la forma con los mismos elementos\n",
    "print(matrix_2)"
   ]
  },
  {
   "cell_type": "code",
   "execution_count": null,
   "metadata": {},
   "outputs": [],
   "source": [
    "matrix_2 = np.array([1, 3, 5, 7, 2, 4, 6, 8]).reshape((4,2)) # Y si no es la misma cantidad de elementos?\n",
    "print(matrix_2)"
   ]
  },
  {
   "cell_type": "code",
   "execution_count": null,
   "metadata": {},
   "outputs": [],
   "source": [
    "matrix_1.resize((3,5)) # Cambia el tamaño del `ndarray` completando con ceros\n",
    "print(matrix_1)"
   ]
  },
  {
   "cell_type": "code",
   "execution_count": null,
   "metadata": {},
   "outputs": [],
   "source": [
    "matrix_1 = np.array([[1, 2], [3, 4]])\n",
    "np.tile(matrix_1, (2,3)) # Repite como mosaico"
   ]
  },
  {
   "cell_type": "code",
   "execution_count": null,
   "metadata": {},
   "outputs": [],
   "source": [
    "matrix_1 = np.array([[1, 2], [3, 4]]) # repite\n",
    "np.repeat(matrix_1, 3)"
   ]
  },
  {
   "cell_type": "markdown",
   "metadata": {},
   "source": [
    "### Álgebra básica para operar con *ndarrays*\n",
    "\n",
    "Veamos la sintaxis de operaciones sencillas con *ndarrays* que transforman o devuelven otros *ndarrays*"
   ]
  },
  {
   "cell_type": "code",
   "execution_count": null,
   "metadata": {},
   "outputs": [],
   "source": [
    "vec_1 = np.array([0,1,2],dtype=int)\n",
    "vec_2 = np.array([10,9,8],dtype=int)\n",
    "print(vec_1,vec_2)"
   ]
  },
  {
   "cell_type": "code",
   "execution_count": null,
   "metadata": {},
   "outputs": [],
   "source": [
    "vec_3 = vec_1 + 1\n",
    "print(vec_3)"
   ]
  },
  {
   "cell_type": "code",
   "execution_count": null,
   "metadata": {},
   "outputs": [],
   "source": [
    "vec_3 = vec_1*2\n",
    "print(vec_3)"
   ]
  },
  {
   "cell_type": "code",
   "execution_count": null,
   "metadata": {},
   "outputs": [],
   "source": [
    "vec_3 = vec_1**2\n",
    "print(vec_3)"
   ]
  },
  {
   "cell_type": "code",
   "execution_count": null,
   "metadata": {},
   "outputs": [],
   "source": [
    "vec_3 = np.log2(vec_1+1) # Numpy tiene además una gran colección de operaciones matemáticas\n",
    "print(vec_3)"
   ]
  },
  {
   "cell_type": "code",
   "execution_count": null,
   "metadata": {},
   "outputs": [],
   "source": [
    "vec_3 = np.cos(vec_1)\n",
    "print(vec_3)"
   ]
  },
  {
   "cell_type": "code",
   "execution_count": null,
   "metadata": {},
   "outputs": [],
   "source": [
    "vec_3 = vec_1+vec_2\n",
    "print(vec_3)"
   ]
  },
  {
   "cell_type": "code",
   "execution_count": null,
   "metadata": {},
   "outputs": [],
   "source": [
    "vec_3 = vec_1*vec_2 # Esta multiplicación es elemento a elemento\n",
    "print(vec_3)"
   ]
  },
  {
   "cell_type": "code",
   "execution_count": null,
   "metadata": {},
   "outputs": [],
   "source": [
    "vec_3 = np.dot(vec_1,vec_2) # Esta es la multiplicación vectorial conocida como 'dot product'\n",
    "print(vec_3)"
   ]
  },
  {
   "cell_type": "code",
   "execution_count": null,
   "metadata": {},
   "outputs": [],
   "source": [
    "vec_3 = np.matmul(vec_1,vec_2) # Esta es la multiplicación matricial, 'dot product' si son vectores\n",
    "print(vec_3)"
   ]
  },
  {
   "cell_type": "code",
   "execution_count": null,
   "metadata": {},
   "outputs": [],
   "source": [
    "vec_3 = np.cross(vec_1.T,vec_2) # Esta es el producto vectorial, o 'cross product' en inglés.\n",
    "print(vec_3)"
   ]
  },
  {
   "cell_type": "code",
   "execution_count": null,
   "metadata": {},
   "outputs": [],
   "source": [
    "vec_3 = (vec_1>1)\n",
    "print(vec_3)"
   ]
  },
  {
   "cell_type": "code",
   "execution_count": null,
   "metadata": {},
   "outputs": [],
   "source": [
    "vec_3 = (vec_2>vec_1)\n",
    "print(vec_3)"
   ]
  },
  {
   "cell_type": "code",
   "execution_count": null,
   "metadata": {},
   "outputs": [],
   "source": [
    "mat_1 = np.array([[0,1,2],[0,1,2],[0,1,2]],dtype=int)\n",
    "mat_2 = np.ones((3,3),dtype=int)*2\n",
    "print(mat_1)\n",
    "print(mat_2)"
   ]
  },
  {
   "cell_type": "code",
   "execution_count": null,
   "metadata": {},
   "outputs": [],
   "source": [
    "mat_3 = mat_1+10\n",
    "print(mat_3)"
   ]
  },
  {
   "cell_type": "code",
   "execution_count": null,
   "metadata": {},
   "outputs": [],
   "source": [
    "mat_3 = mat_1*2\n",
    "print(mat_3)"
   ]
  },
  {
   "cell_type": "code",
   "execution_count": null,
   "metadata": {},
   "outputs": [],
   "source": [
    "mat_3 = mat_1+mat_2\n",
    "print(mat_3)"
   ]
  },
  {
   "cell_type": "code",
   "execution_count": null,
   "metadata": {},
   "outputs": [],
   "source": [
    "mat_3 = mat_1*mat_2 # Esta operación es elemento a elemento: aij*bij\n",
    "print(mat_3)"
   ]
  },
  {
   "cell_type": "code",
   "execution_count": null,
   "metadata": {},
   "outputs": [],
   "source": [
    "mat_3 = np.dot(mat_1,mat_2) # esta operación es el producto matricial\n",
    "print(mat_3)"
   ]
  },
  {
   "cell_type": "code",
   "execution_count": null,
   "metadata": {},
   "outputs": [],
   "source": [
    "mat_3 = np.matmul(mat_1,mat_2) # esta operación es el producto matricial\n",
    "print(mat_3)"
   ]
  },
  {
   "cell_type": "code",
   "execution_count": null,
   "metadata": {},
   "outputs": [],
   "source": [
    "mat_3 = np.matmul(mat_1,vec_1) # esta operación es el producto matricial\n",
    "print(mat_3)"
   ]
  },
  {
   "cell_type": "code",
   "execution_count": null,
   "metadata": {},
   "outputs": [],
   "source": [
    "mat_3 = (mat_1<1)\n",
    "print(mat_3)"
   ]
  },
  {
   "cell_type": "code",
   "execution_count": null,
   "metadata": {},
   "outputs": [],
   "source": [
    "mat_3 = (mat_1!=mat_2)\n",
    "print(mat_3)"
   ]
  },
  {
   "cell_type": "code",
   "execution_count": null,
   "metadata": {},
   "outputs": [],
   "source": [
    "logic_1 = np.zeros((4),dtype=bool)\n",
    "logic_2 = np.zeros((4),dtype=bool)\n",
    "logic_1[[1,2]]=True\n",
    "logic_2[[0,2]]=True\n",
    "print(logic_1)\n",
    "print(logic_2)"
   ]
  },
  {
   "cell_type": "code",
   "execution_count": null,
   "metadata": {},
   "outputs": [],
   "source": [
    "logic_3 = (logic_1 | logic_2) # \"|\" es la operación lógica \"Or\"\n",
    "print(logic_3)"
   ]
  },
  {
   "cell_type": "code",
   "execution_count": null,
   "metadata": {},
   "outputs": [],
   "source": [
    "logic_3 = (logic_1 & logic_2) # \"&\" es la operación lógica \"And\"\n",
    "print(logic_3)"
   ]
  },
  {
   "cell_type": "code",
   "execution_count": null,
   "metadata": {},
   "outputs": [],
   "source": [
    "logic_3 = (logic_1 ^ logic_2) # \"^\" es la operación lógica \"Xor\"\n",
    "print(logic_3)"
   ]
  },
  {
   "cell_type": "code",
   "execution_count": null,
   "metadata": {},
   "outputs": [],
   "source": [
    "logic_3 = ~logic_1 # \"~\" es la operación lógica \"Not\"\n",
    "print(logic_3)"
   ]
  },
  {
   "cell_type": "markdown",
   "metadata": {},
   "source": [
    "### Algebra lineal"
   ]
  },
  {
   "cell_type": "markdown",
   "metadata": {},
   "source": [
    "NumPy tiene [una colección de operaciones de algebra lineal](https://docs.scipy.org/doc/numpy-1.15.1/reference/routines.linalg.html) muy completa. Acudir a NumPy para realizar ciertas operaciones, así como acudir a funciones de Scipy o Scikit-learn (como veremos en los siguientes notebooks), resulta muy conveniente por su eficiencia.\n",
    "\n",
    "Veamos algún ejemplo:"
   ]
  },
  {
   "cell_type": "code",
   "execution_count": null,
   "metadata": {},
   "outputs": [],
   "source": [
    "vec_1 = np.array([2.0, 2.0, 4.0])\n",
    "mat_1 = np.array([[1.0,0.0,0.0],[0.0,0.0,1.0],[0.0,1.0,0.0]])\n",
    "print(vec_1)\n",
    "print(mat_1)"
   ]
  },
  {
   "cell_type": "code",
   "execution_count": null,
   "metadata": {},
   "outputs": [],
   "source": [
    "np.linalg.norm(vec_1) # norma del vector"
   ]
  },
  {
   "cell_type": "code",
   "execution_count": null,
   "metadata": {},
   "outputs": [],
   "source": [
    "np.linalg.det(mat_1) # determinante de la matriz"
   ]
  },
  {
   "cell_type": "code",
   "execution_count": null,
   "metadata": {},
   "outputs": [],
   "source": [
    "np.trace(mat_1) # traza de la matriz"
   ]
  },
  {
   "cell_type": "code",
   "execution_count": null,
   "metadata": {},
   "outputs": [],
   "source": [
    "np.transpose(mat_1) # matriz transpuesta"
   ]
  },
  {
   "cell_type": "code",
   "execution_count": null,
   "metadata": {},
   "outputs": [],
   "source": [
    "eigenvals, eigenvecs = np.linalg.eig(mat_1) # autovalores y autovectores\n",
    "\n",
    "print('Autovalores:',eigenvals)\n",
    "print('Autovectores:',eigenvecs)\n",
    "print('')\n",
    "\n",
    "for ii in range(eigenvals.shape[0]):\n",
    "    print('Autovalor y Autovector ',str(ii),':')\n",
    "    print('')\n",
    "    print('\\t',eigenvals[ii],eigenvecs[:,ii])\n",
    "    print('')"
   ]
  },
  {
   "cell_type": "code",
   "execution_count": null,
   "metadata": {},
   "outputs": [],
   "source": [
    "eigenvals[1]*eigenvecs[:,1] == np.dot(mat_1,eigenvecs[:,1])"
   ]
  },
  {
   "cell_type": "markdown",
   "metadata": {},
   "source": [
    "### Generadores y otras funciones útiles\n",
    "\n",
    "Por último veamos unos generadores de números junto con otras funciones útiles de NumPy que has de saber que existen."
   ]
  },
  {
   "cell_type": "code",
   "execution_count": null,
   "metadata": {},
   "outputs": [],
   "source": [
    "print(list(np.arange(10))) # NumPy tiene un iterador para secuencias"
   ]
  },
  {
   "cell_type": "code",
   "execution_count": null,
   "metadata": {},
   "outputs": [],
   "source": [
    "print(list(np.arange(5,15,2))) # NumPy tiene un iterador para secuencias"
   ]
  },
  {
   "cell_type": "code",
   "execution_count": null,
   "metadata": {},
   "outputs": [],
   "source": [
    "np.random.random() # Podemos encontrar varios generadores de números aleatorios"
   ]
  },
  {
   "cell_type": "code",
   "execution_count": null,
   "metadata": {},
   "outputs": [],
   "source": [
    "random_gaussian_numbers = np.random.normal(0.0,1.0,5000) # 5000 números aleatorios en distribución normal\n",
    "print('Primeros 5 números aleatorios:',random_gaussian_numbers[:5])\n",
    "print('Valor promedio:', random_gaussian_numbers.mean())\n",
    "print('Desviación estandard:', random_gaussian_numbers.std())\n",
    "print('')\n",
    "\n",
    "# Encontramos funciones para hacer histogramas\n",
    "print('Histograma a 5 bins:')\n",
    "frecuencias, limite_bins = np.histogram(random_gaussian_numbers,bins=5)\n",
    "print('')\n",
    "for ii in range(5):\n",
    "    print('de',limite_bins[ii],'a',limite_bins[ii+1],':',frecuencias[ii])\n"
   ]
  },
  {
   "cell_type": "code",
   "execution_count": null,
   "metadata": {},
   "outputs": [],
   "source": [
    "np.linspace(-10.0,10.0,12) # Generador de puntos equi-espaciados, 12 aquí entre -10.0 y 10.0"
   ]
  },
  {
   "cell_type": "code",
   "execution_count": null,
   "metadata": {},
   "outputs": [],
   "source": [
    "np.logspace(1, 10, 5, base=np.e) # Generador de puntos espaciados en escala logarítmica"
   ]
  },
  {
   "cell_type": "code",
   "execution_count": null,
   "metadata": {},
   "outputs": [],
   "source": [
    "x, y = np.mgrid[-2:2, 0:5] # Generador de enrejados (grids)\n",
    "print(x)\n",
    "print(y)"
   ]
  },
  {
   "cell_type": "markdown",
   "metadata": {},
   "source": [
    "### Escribiendo y leyendo *ndarrays* en ficheros\n",
    "\n",
    "NumPy cuenta con su propio formato de archivo para escritura y lectura de `ndarrays` de manera eficiente:"
   ]
  },
  {
   "cell_type": "code",
   "execution_count": null,
   "metadata": {},
   "outputs": [],
   "source": [
    "vec_1 = np.array([0, 2, 4, 6])"
   ]
  },
  {
   "cell_type": "code",
   "execution_count": null,
   "metadata": {},
   "outputs": [],
   "source": [
    "np.save(\"fichero_numpy.npy\", vec_1)"
   ]
  },
  {
   "cell_type": "code",
   "execution_count": null,
   "metadata": {},
   "outputs": [],
   "source": [
    "vec_2 = np.load(\"fichero_numpy.npy\")"
   ]
  },
  {
   "cell_type": "code",
   "execution_count": null,
   "metadata": {},
   "outputs": [],
   "source": [
    "print(vec_2)"
   ]
  },
  {
   "cell_type": "code",
   "execution_count": null,
   "metadata": {},
   "outputs": [],
   "source": [
    "import os\n",
    "os.remove(\"fichero_numpy.npy\")\n",
    "del(vec_2)"
   ]
  },
  {
   "cell_type": "markdown",
   "metadata": {},
   "source": [
    "Además NumPy está preparado para manejar [una multitud de otro tipo de ficheros](https://docs.scipy.org/doc/numpy-1.15.0/reference/routines.io.html) para la entrada y salida de datos. Por ejemplo csv:"
   ]
  },
  {
   "cell_type": "code",
   "execution_count": null,
   "metadata": {},
   "outputs": [],
   "source": [
    "np.savetxt(\"fichero_numpy.csv\", vec_1)"
   ]
  },
  {
   "cell_type": "code",
   "execution_count": null,
   "metadata": {},
   "outputs": [],
   "source": [
    "!cat fichero_numpy.csv"
   ]
  },
  {
   "cell_type": "code",
   "execution_count": null,
   "metadata": {},
   "outputs": [],
   "source": [
    "vec_2 = np.loadtxt(\"fichero_numpy.csv\")"
   ]
  },
  {
   "cell_type": "code",
   "execution_count": null,
   "metadata": {},
   "outputs": [],
   "source": [
    "print(vec_2)"
   ]
  },
  {
   "cell_type": "code",
   "execution_count": null,
   "metadata": {},
   "outputs": [],
   "source": [
    "os.remove(\"fichero_numpy.csv\")\n",
    "del(vec_2)"
   ]
  },
  {
   "cell_type": "markdown",
   "metadata": {},
   "source": [
    "---\n",
    "\n",
    "## Dudas, problemas técnicos y soluciones. <a class=\"anchor\" id=\"dudas\"></a>\n",
    "\n",
    "Para centralizar esas dudas técnicas sobre el tema de este notebook o proponer soluciones o sugerencias más técnicas que queremos encontrar en el futuro comentadas y visibles para todos, haz uso del siguiente canal:\n",
    "\n",
    "[Foro Técnico: NumPy](https://github.com/uibcdf/Taller-Ciencia-Datos/issues/)\n",
    "\n",
    "## Más recursos útiles <a class=\"anchor\" id=\"recursos\"></a>\n",
    "\n",
    "El propósito de este notebook es ser un documento únicamente introductorio. Puedes encontrar -o contribuir añadiendo- más información útil en el siguiente listado:\n",
    "\n",
    "### Documentación <a class=\"anchor\" id=\"documentacion\"></a>\n",
    "\n",
    "http://www.numpy.org/    \n",
    "https://docs.scipy.org/doc/numpy/    \n",
    "https://www.iaa.csic.es/python/cientifico/numpy.pdf       \n",
    "http://pcmap.unizar.es/~pilar/python_short.pdf    \n",
    "\n",
    "### Tutoriales, Webinars y cursos gratuitos <a class=\"anchor\" id=\"tutoriales\"></a>\n",
    "\n",
    "http://www.learnpython.org/es/Numpy%20Arrays   \n",
    "http://www.iac.es/sieinvens/python-course/source/numpy.html   \n",
    "https://geekytheory.com/pylab-parte-2-datos-basicos-numpy     \n",
    "http://damianavila.github.io/Python-Cientifico-HCC/3_NumPy.html     \n",
    "https://scipy-cookbook.readthedocs.io/items/idx_numpy.html    \n",
    "https://jakevdp.github.io/PythonDataScienceHandbook/02.00-introduction-to-numpy.html    "
   ]
  }
 ],
 "metadata": {
  "kernelspec": {
   "display_name": "Python 3 (ipykernel)",
   "language": "python",
   "name": "python3"
  },
  "language_info": {
   "codemirror_mode": {
    "name": "ipython",
    "version": 3
   },
   "file_extension": ".py",
   "mimetype": "text/x-python",
   "name": "python",
   "nbconvert_exporter": "python",
   "pygments_lexer": "ipython3",
   "version": "3.10.11"
  },
  "latex_envs": {
   "LaTeX_envs_menu_present": true,
   "autoclose": false,
   "autocomplete": true,
   "bibliofile": "biblio.bib",
   "cite_by": "apalike",
   "current_citInitial": 1,
   "eqLabelWithNumbers": true,
   "eqNumInitial": 1,
   "hotkeys": {
    "equation": "Ctrl-E",
    "itemize": "Ctrl-I"
   },
   "labels_anchors": false,
   "latex_user_defs": false,
   "report_style_numbering": false,
   "user_envs_cfg": false
  }
 },
 "nbformat": 4,
 "nbformat_minor": 4
}
