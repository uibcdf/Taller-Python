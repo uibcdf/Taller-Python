{
 "cells": [
  {
   "cell_type": "markdown",
   "id": "db6bb2d0-47a3-4ba0-973b-9e612e586d11",
   "metadata": {
    "tags": []
   },
   "source": [
    "# Reto semanal\n",
    "\n",
    "En construcción...\n",
    "\n"
   ]
  },
  {
   "cell_type": "code",
   "execution_count": null,
   "id": "6152bae3-ad7c-45f1-9a26-47a031fa5824",
   "metadata": {},
   "outputs": [],
   "source": []
  }
 ],
 "metadata": {
  "kernelspec": {
   "display_name": "Python 3 (ipykernel)",
   "language": "python",
   "name": "python3"
  },
  "language_info": {
   "codemirror_mode": {
    "name": "ipython",
    "version": 3
   },
   "file_extension": ".py",
   "mimetype": "text/x-python",
   "name": "python",
   "nbconvert_exporter": "python",
   "pygments_lexer": "ipython3",
   "version": "3.10.10"
  }
 },
 "nbformat": 4,
 "nbformat_minor": 5
}
