{
 "cells": [
  {
   "cell_type": "markdown",
   "id": "d3a05d7f-3ddc-4159-8ff8-56d7bfe0c46c",
   "metadata": {},
   "source": [
    "# Contenido\n",
    "\n",
    "<br>\n",
    "<center><img src=\"https://imgs.xkcd.com/comics/python.png\" width=\"40%\"></center>\n",
    "<br>\n",
    "\n",
    "Los siguientes contenidos serán presentados en [una sesión de videoconferencia](sesion.md).\n",
    "Puedes encontrar en [este enlace](slides/slides.pdf) las slides usadas como soporte."
   ]
  },
  {
   "cell_type": "markdown",
   "id": "3bdd9dd3-f18c-4c1b-94f8-b546736c7953",
   "metadata": {},
   "source": [
    "## Introducción\n",
    "\n",
    "Si conoces otros lenguajes es posible que esta introducción te resulte innecesaria, pero se ha escrito pensando en un lector completamente lego en programación.\n",
    "\n",
    "Un lenguaje de programación es un conjunto de reglas sintácticas que permiten codificar la secuencia de ordenes lógicas (algoritmo) que traducido a lenguage máquina y ejecutado por el procesador de tu computadora resolverá una tarea. Para esto Python hace uso de unos mecanismos elementales comunes a cualquier lenguaje, interpretado o compilado, como es el uso del almacenamiento de información en variables, el algebra, la lógica, los iteradores, los bucles y las funciones, entre otros.\n",
    "\n",
    "### Antes de empezar\n",
    "\n",
    "Si estás ejecutando este Jupyter Notebook en tu computadora haciendo uso de tu Jupyter Lab, te recomendamos que lo reinicialices completamente borrando la salida de las celdas. Para ello acude al menú *Kernel* (top menú de la ventana) y elige la opción *Restart Kernel and Clear All Outputs of All Cells...*. Puede que hayamos dejado en la copia maestra de GitHub el resultado de la ejecución de las celdas, pero es sólo para que cualquiera pueda leer el notebook allí sin necesidad de ejecutarla. Pero tu no lo vas a leer. Vas a jugar con él. Así que resetéalo.\n",
    "\n",
    "Recuerda también que para ejecutar una celda debes presionar la combinación de teclas 'mayús'+'entrar' cuanto esta está seleccionada."
   ]
  },
  {
   "cell_type": "markdown",
   "id": "d2a7c1c7-247c-4690-9e0f-8dbceda3a154",
   "metadata": {},
   "source": [
    "## ¿Qué es una variable?"
   ]
  },
  {
   "cell_type": "markdown",
   "id": "54a916e4-ee87-4952-863e-7e6f232e4ea3",
   "metadata": {},
   "source": [
    "La variable es el objeto con el que almacenamos información en memoria. La variable se compone de tres partes:\n",
    "- Nombre\n",
    "- Valor\n",
    "- Dirección de un sector de memoria donde hemos almacenado el valor\n",
    "\n",
    "Una vez que hemos definido una variable, podemos acceder a la lectura del valor sin más que invocar su nombre:"
   ]
  },
  {
   "cell_type": "code",
   "execution_count": 1,
   "id": "8c5be36b-dd28-46d3-8457-1883818e49c6",
   "metadata": {},
   "outputs": [],
   "source": [
    "var1 = 3\n",
    "var2 = 4.6\n",
    "var3 = 'python'\n",
    "var4 = True"
   ]
  },
  {
   "cell_type": "code",
   "execution_count": 2,
   "id": "5ca2d8bd-2c8e-47ca-ad28-94564d7d821d",
   "metadata": {},
   "outputs": [
    {
     "data": {
      "text/plain": [
       "'python'"
      ]
     },
     "execution_count": 2,
     "metadata": {},
     "output_type": "execute_result"
    }
   ],
   "source": [
    "var3"
   ]
  },
  {
   "cell_type": "code",
   "execution_count": 3,
   "id": "67abfa87-7af0-46dd-8b4d-02a710b47c10",
   "metadata": {},
   "outputs": [
    {
     "data": {
      "text/plain": [
       "7.6"
      ]
     },
     "execution_count": 3,
     "metadata": {},
     "output_type": "execute_result"
    }
   ],
   "source": [
    "var1 + var2"
   ]
  },
  {
   "cell_type": "markdown",
   "id": "0f666253-5ec3-473d-bbd1-81814d4ecd5c",
   "metadata": {},
   "source": [
    "Vemos que de estas variables conocemos su nombre y su valor, porque los hemos definido nosotros... pero, ¿dónde está la dirección o el identificador que nos servirá para que Python se dirija correctamente al sector de memoria adecuado?"
   ]
  },
  {
   "cell_type": "code",
   "execution_count": 4,
   "id": "72e23263-859d-4590-b5b2-e99b1e0ab83f",
   "metadata": {},
   "outputs": [
    {
     "data": {
      "text/plain": [
       "140584996503856"
      ]
     },
     "execution_count": 4,
     "metadata": {},
     "output_type": "execute_result"
    }
   ],
   "source": [
    "id(var1)"
   ]
  },
  {
   "cell_type": "code",
   "execution_count": 5,
   "id": "a1213aa3-cddb-41a8-bf68-67597e442c44",
   "metadata": {},
   "outputs": [
    {
     "data": {
      "text/plain": [
       "140584950086768"
      ]
     },
     "execution_count": 5,
     "metadata": {},
     "output_type": "execute_result"
    }
   ],
   "source": [
    "id(var2)"
   ]
  },
  {
   "cell_type": "markdown",
   "id": "ab22bf88-7044-4316-95d2-7a71b103debd",
   "metadata": {},
   "source": [
    "Lenguajes como Fortran o C obligan a comenzar un programa con una sección de declaración de variables, con nombre y tipo (es número entero, es letra, es número real, etc.). Así, el uso 'al vuelo' de una nueva variable a mitad del programa, si no fue declarada al inicio, provoca un error. Afortunadamente esto ya no pasa en lenguajes interpretados como Python. En Python cualquier variable que el interpretador encuentra por primera vez, y en cualquier momento, la registra como conocida y le da el tipo que tiene el valor que se le asigna."
   ]
  },
  {
   "cell_type": "markdown",
   "id": "88911cf2-05c0-465c-bed8-b6372a42a941",
   "metadata": {},
   "source": [
    "## Tipos de variables\n",
    "\n",
    "Hemos definido cuatro variables y como pudiste ver tienen valores de tipos distinto: un entero, un número de coma flotante, una cadena de caracteres y un valor de lógica booleana."
   ]
  },
  {
   "cell_type": "code",
   "execution_count": 6,
   "id": "d575aaa6-ef4e-4ec8-9736-adfbd12e5d84",
   "metadata": {},
   "outputs": [
    {
     "data": {
      "text/plain": [
       "int"
      ]
     },
     "execution_count": 6,
     "metadata": {},
     "output_type": "execute_result"
    }
   ],
   "source": [
    "type(var1)"
   ]
  },
  {
   "cell_type": "code",
   "execution_count": 7,
   "id": "cd06cbb6-d15a-452b-b53e-95acad88b32d",
   "metadata": {},
   "outputs": [
    {
     "data": {
      "text/plain": [
       "float"
      ]
     },
     "execution_count": 7,
     "metadata": {},
     "output_type": "execute_result"
    }
   ],
   "source": [
    "type(var2)"
   ]
  },
  {
   "cell_type": "code",
   "execution_count": 8,
   "id": "46686328-3d15-45b6-af5d-b9fad9859b14",
   "metadata": {},
   "outputs": [
    {
     "data": {
      "text/plain": [
       "str"
      ]
     },
     "execution_count": 8,
     "metadata": {},
     "output_type": "execute_result"
    }
   ],
   "source": [
    "type(var3)"
   ]
  },
  {
   "cell_type": "code",
   "execution_count": 9,
   "id": "50607ec7-10f5-4b69-a265-4f4a59967545",
   "metadata": {},
   "outputs": [
    {
     "data": {
      "text/plain": [
       "bool"
      ]
     },
     "execution_count": 9,
     "metadata": {},
     "output_type": "execute_result"
    }
   ],
   "source": [
    "type(var4)"
   ]
  },
  {
   "cell_type": "markdown",
   "id": "dd696e26-19ed-4e5d-b997-9f2a9025c921",
   "metadata": {},
   "source": [
    "Vamos con una breve descripción de cada uno de los tipos de variables que podemos manejar en Python."
   ]
  },
  {
   "cell_type": "markdown",
   "id": "26b8d2e2-3bc6-4833-b13c-6db1ca320bad",
   "metadata": {},
   "source": [
    "## Enteros\n",
    "\n",
    "Estas variables como su nombre indica almacenan números enteros, y en lenguaje de programación y en Python se les conoce como *Integers* o variables de tipo *int*:"
   ]
  },
  {
   "cell_type": "code",
   "execution_count": 10,
   "id": "81428ee9-c3e7-4181-8727-e1db8a266251",
   "metadata": {},
   "outputs": [],
   "source": [
    "var1 = 3"
   ]
  },
  {
   "cell_type": "code",
   "execution_count": 11,
   "id": "6e11f282-7d27-4181-abd2-d917be11ed2d",
   "metadata": {},
   "outputs": [
    {
     "data": {
      "text/plain": [
       "3"
      ]
     },
     "execution_count": 11,
     "metadata": {},
     "output_type": "execute_result"
    }
   ],
   "source": [
    "var1"
   ]
  },
  {
   "cell_type": "code",
   "execution_count": 12,
   "id": "41d4c609-2f58-42f4-9cba-4eebffc8c576",
   "metadata": {},
   "outputs": [
    {
     "data": {
      "text/plain": [
       "int"
      ]
     },
     "execution_count": 12,
     "metadata": {},
     "output_type": "execute_result"
    }
   ],
   "source": [
    "type(var1)"
   ]
  },
  {
   "cell_type": "markdown",
   "id": "0afdb8ef-9e47-4daf-bc63-f13f45025483",
   "metadata": {},
   "source": [
    "Podemos hacer uso de los símbolos matemáticos para operar con ellos algebráicamente y lógicamente:"
   ]
  },
  {
   "cell_type": "code",
   "execution_count": 13,
   "id": "eb43cf85-2bc0-4578-8e37-54e32be22610",
   "metadata": {},
   "outputs": [],
   "source": [
    "var2 = 5\n",
    "var3 = 7"
   ]
  },
  {
   "cell_type": "code",
   "execution_count": 14,
   "id": "46d33487-c1c3-4ed3-9126-96f2e090fa1a",
   "metadata": {},
   "outputs": [
    {
     "data": {
      "text/plain": [
       "8"
      ]
     },
     "execution_count": 14,
     "metadata": {},
     "output_type": "execute_result"
    }
   ],
   "source": [
    "var1+var2"
   ]
  },
  {
   "cell_type": "code",
   "execution_count": 15,
   "id": "77c28810-4266-46dd-800b-aaf47acf895a",
   "metadata": {},
   "outputs": [
    {
     "data": {
      "text/plain": [
       "2.3333333333333335"
      ]
     },
     "execution_count": 15,
     "metadata": {},
     "output_type": "execute_result"
    }
   ],
   "source": [
    "var3/var1"
   ]
  },
  {
   "cell_type": "code",
   "execution_count": 16,
   "id": "7627cad1-cc9c-4162-8226-3d286bb88cef",
   "metadata": {},
   "outputs": [
    {
     "data": {
      "text/plain": [
       "True"
      ]
     },
     "execution_count": 16,
     "metadata": {},
     "output_type": "execute_result"
    }
   ],
   "source": [
    "var2 < var3"
   ]
  },
  {
   "cell_type": "code",
   "execution_count": 17,
   "id": "a623e922-17c4-428d-8a7c-876bfd73b327",
   "metadata": {},
   "outputs": [
    {
     "data": {
      "text/plain": [
       "True"
      ]
     },
     "execution_count": 17,
     "metadata": {},
     "output_type": "execute_result"
    }
   ],
   "source": [
    "var1 != var2 # El símbolo '!=' significa 'distinto que'"
   ]
  },
  {
   "cell_type": "code",
   "execution_count": 18,
   "id": "b39154fe-4cc0-47a7-97b7-9808d1a23b70",
   "metadata": {},
   "outputs": [
    {
     "data": {
      "text/plain": [
       "False"
      ]
     },
     "execution_count": 18,
     "metadata": {},
     "output_type": "execute_result"
    }
   ],
   "source": [
    "var1 == var2 # El símbolo '==' significa 'igual que'"
   ]
  },
  {
   "cell_type": "markdown",
   "id": "b064a233-268d-4a4f-9edb-e307eab68113",
   "metadata": {},
   "source": [
    "# Números de coma flotante"
   ]
  },
  {
   "cell_type": "markdown",
   "id": "c8a29bb7-697a-44f4-9156-00b6c0d16bac",
   "metadata": {},
   "source": [
    "Para almacenar números reales hacemos uso de las variables de coma flotante o como se conocen en lenguaje de programación: *float* (*floating point numbers*):"
   ]
  },
  {
   "cell_type": "code",
   "execution_count": 19,
   "id": "0f56d80d-9a7f-4641-a774-c6b8671b99dd",
   "metadata": {},
   "outputs": [],
   "source": [
    "var1 = 3.24386"
   ]
  },
  {
   "cell_type": "code",
   "execution_count": 20,
   "id": "51c595ca-6d4a-44d3-8d7b-5a3e7972eb25",
   "metadata": {},
   "outputs": [
    {
     "data": {
      "text/plain": [
       "3.24386"
      ]
     },
     "execution_count": 20,
     "metadata": {},
     "output_type": "execute_result"
    }
   ],
   "source": [
    "var1"
   ]
  },
  {
   "cell_type": "code",
   "execution_count": 21,
   "id": "1877917b-adc7-48e3-97f2-0391c61e574a",
   "metadata": {},
   "outputs": [
    {
     "data": {
      "text/plain": [
       "float"
      ]
     },
     "execution_count": 21,
     "metadata": {},
     "output_type": "execute_result"
    }
   ],
   "source": [
    "type(var1)"
   ]
  },
  {
   "cell_type": "markdown",
   "id": "73bec3ca-2520-44e6-893d-c8225863d6d8",
   "metadata": {},
   "source": [
    "Al igual que con los enteros, podemos hacer operaciones lógicas y algebráicas con ellos:"
   ]
  },
  {
   "cell_type": "code",
   "execution_count": 22,
   "id": "a2e9064c-b08d-4890-9e3d-889fcc1ddcbe",
   "metadata": {},
   "outputs": [],
   "source": [
    "var2 = -15.21347\n",
    "var3 = 0.125"
   ]
  },
  {
   "cell_type": "code",
   "execution_count": 23,
   "id": "f6f6ff0d-8a68-4735-ad8f-b366f78b859a",
   "metadata": {},
   "outputs": [
    {
     "data": {
      "text/plain": [
       "-49.3503667942"
      ]
     },
     "execution_count": 23,
     "metadata": {},
     "output_type": "execute_result"
    }
   ],
   "source": [
    "var1*var2"
   ]
  },
  {
   "cell_type": "code",
   "execution_count": 24,
   "id": "ee2b20be-af51-47a3-8294-94a8c21a682f",
   "metadata": {},
   "outputs": [
    {
     "data": {
      "text/plain": [
       "3.36886"
      ]
     },
     "execution_count": 24,
     "metadata": {},
     "output_type": "execute_result"
    }
   ],
   "source": [
    "var1+var3"
   ]
  },
  {
   "cell_type": "code",
   "execution_count": 25,
   "id": "4c9347f2-7034-4bd7-b561-3a39474d06e9",
   "metadata": {},
   "outputs": [
    {
     "data": {
      "text/plain": [
       "True"
      ]
     },
     "execution_count": 25,
     "metadata": {},
     "output_type": "execute_result"
    }
   ],
   "source": [
    "var2 <= var3"
   ]
  },
  {
   "cell_type": "markdown",
   "id": "85195d0e-a091-4894-bb0d-bd4f2f1478d1",
   "metadata": {},
   "source": [
    "## Cadenas de caracteres\n",
    "\n",
    "Para almacenar \"texto\", es decir, cadenas de caracteres, Python y el resto de lenguajes de programación hacen uso de las variables de tipo 'string'."
   ]
  },
  {
   "cell_type": "code",
   "execution_count": 26,
   "id": "22ff3070-e832-4715-9646-2b92a71ff739",
   "metadata": {},
   "outputs": [],
   "source": [
    "var1 = 'hola'"
   ]
  },
  {
   "cell_type": "code",
   "execution_count": 27,
   "id": "6f7609cd-0e69-48bf-8fd1-c9b16182849b",
   "metadata": {},
   "outputs": [
    {
     "data": {
      "text/plain": [
       "'hola'"
      ]
     },
     "execution_count": 27,
     "metadata": {},
     "output_type": "execute_result"
    }
   ],
   "source": [
    "var1"
   ]
  },
  {
   "cell_type": "code",
   "execution_count": 28,
   "id": "6a40fd12-c8e0-40ee-9d7d-637d18c647ad",
   "metadata": {},
   "outputs": [
    {
     "data": {
      "text/plain": [
       "str"
      ]
     },
     "execution_count": 28,
     "metadata": {},
     "output_type": "execute_result"
    }
   ],
   "source": [
    "type(var1)"
   ]
  },
  {
   "cell_type": "markdown",
   "id": "6e2729d5-64cf-4129-a86f-b6e1f3c61e5c",
   "metadata": {},
   "source": [
    "Al igual que con el resto de variables, podemos hacer uso de los símbolos matemáticos... pero en este caso para realizar operaciones como:"
   ]
  },
  {
   "cell_type": "code",
   "execution_count": 29,
   "id": "898f7c62-a9c2-4c41-b5f6-ba178cbb9be2",
   "metadata": {},
   "outputs": [],
   "source": [
    "var2 = 'manzana'\n",
    "var3 = 'casa'"
   ]
  },
  {
   "cell_type": "code",
   "execution_count": 30,
   "id": "9d6d571e-a692-46df-8584-6e6306d7c424",
   "metadata": {},
   "outputs": [
    {
     "data": {
      "text/plain": [
       "'holamanzana'"
      ]
     },
     "execution_count": 30,
     "metadata": {},
     "output_type": "execute_result"
    }
   ],
   "source": [
    "var1+var2"
   ]
  },
  {
   "cell_type": "code",
   "execution_count": 31,
   "id": "a0abc5ed-0b25-47e9-8c6f-44f6d3ee20e4",
   "metadata": {},
   "outputs": [
    {
     "data": {
      "text/plain": [
       "'holaholahola'"
      ]
     },
     "execution_count": 31,
     "metadata": {},
     "output_type": "execute_result"
    }
   ],
   "source": [
    "var1*3"
   ]
  },
  {
   "cell_type": "code",
   "execution_count": 32,
   "id": "0b67d527-5757-4118-816c-e610b650b2d7",
   "metadata": {},
   "outputs": [
    {
     "data": {
      "text/plain": [
       "True"
      ]
     },
     "execution_count": 32,
     "metadata": {},
     "output_type": "execute_result"
    }
   ],
   "source": [
    "var3 == 'casa'"
   ]
  },
  {
   "cell_type": "code",
   "execution_count": 33,
   "id": "fa10e59d-023f-4a3c-9122-22344df269be",
   "metadata": {},
   "outputs": [
    {
     "data": {
      "text/plain": [
       "True"
      ]
     },
     "execution_count": 33,
     "metadata": {},
     "output_type": "execute_result"
    }
   ],
   "source": [
    "var2 != var1"
   ]
  },
  {
   "cell_type": "markdown",
   "id": "b7e0518c-1dc0-4475-aebe-d357033391b8",
   "metadata": {},
   "source": [
    "En el caso de las variables 'string' tenemos otras funciones y atributos para trabajar con ellas. Por ejemplo:\n",
    "- podemos conocer la longitud de una cadena de caracteres\n",
    "- podemos acceder a específicamente a uno o varios de los caracteres\n",
    "- podemos comprobar si contiene o no una subcadena de caracteres\n",
    "- disponemos de una gran batería de métodos internos para por ejemplo reemplazar caracteres, transformar en mayúsculas, o comprobar si la cadena comienza o termina con una secuencia específíca."
   ]
  },
  {
   "cell_type": "code",
   "execution_count": 34,
   "id": "bd5e5561-cc7a-4273-989a-96995dfeee0d",
   "metadata": {},
   "outputs": [
    {
     "data": {
      "text/plain": [
       "7"
      ]
     },
     "execution_count": 34,
     "metadata": {},
     "output_type": "execute_result"
    }
   ],
   "source": [
    "len(var2)"
   ]
  },
  {
   "cell_type": "code",
   "execution_count": 35,
   "id": "d5db61d8-a68c-40cb-815c-c000d3d45be5",
   "metadata": {},
   "outputs": [
    {
     "data": {
      "text/plain": [
       "'ma'"
      ]
     },
     "execution_count": 35,
     "metadata": {},
     "output_type": "execute_result"
    }
   ],
   "source": [
    "var2[0:2]"
   ]
  },
  {
   "cell_type": "code",
   "execution_count": 36,
   "id": "8d04375e-7a2f-4cb8-9d4f-0f5e09ce21e7",
   "metadata": {},
   "outputs": [
    {
     "data": {
      "text/plain": [
       "'a'"
      ]
     },
     "execution_count": 36,
     "metadata": {},
     "output_type": "execute_result"
    }
   ],
   "source": [
    "var2[6]"
   ]
  },
  {
   "cell_type": "code",
   "execution_count": 37,
   "id": "883039ab-df07-4e8c-bc67-e62bbeaaa753",
   "metadata": {},
   "outputs": [
    {
     "data": {
      "text/plain": [
       "'a'"
      ]
     },
     "execution_count": 37,
     "metadata": {},
     "output_type": "execute_result"
    }
   ],
   "source": [
    "var2[-1]"
   ]
  },
  {
   "cell_type": "code",
   "execution_count": 38,
   "id": "90d0757d-dac0-4327-9231-3c009a2ac750",
   "metadata": {},
   "outputs": [
    {
     "data": {
      "text/plain": [
       "True"
      ]
     },
     "execution_count": 38,
     "metadata": {},
     "output_type": "execute_result"
    }
   ],
   "source": [
    "'asa' in var3"
   ]
  },
  {
   "cell_type": "code",
   "execution_count": 39,
   "id": "80807600-4398-41bd-9206-b5f19a646519",
   "metadata": {},
   "outputs": [
    {
     "data": {
      "text/plain": [
       "['__add__',\n",
       " '__class__',\n",
       " '__contains__',\n",
       " '__delattr__',\n",
       " '__dir__',\n",
       " '__doc__',\n",
       " '__eq__',\n",
       " '__format__',\n",
       " '__ge__',\n",
       " '__getattribute__',\n",
       " '__getitem__',\n",
       " '__getnewargs__',\n",
       " '__gt__',\n",
       " '__hash__',\n",
       " '__init__',\n",
       " '__init_subclass__',\n",
       " '__iter__',\n",
       " '__le__',\n",
       " '__len__',\n",
       " '__lt__',\n",
       " '__mod__',\n",
       " '__mul__',\n",
       " '__ne__',\n",
       " '__new__',\n",
       " '__reduce__',\n",
       " '__reduce_ex__',\n",
       " '__repr__',\n",
       " '__rmod__',\n",
       " '__rmul__',\n",
       " '__setattr__',\n",
       " '__sizeof__',\n",
       " '__str__',\n",
       " '__subclasshook__',\n",
       " 'capitalize',\n",
       " 'casefold',\n",
       " 'center',\n",
       " 'count',\n",
       " 'encode',\n",
       " 'endswith',\n",
       " 'expandtabs',\n",
       " 'find',\n",
       " 'format',\n",
       " 'format_map',\n",
       " 'index',\n",
       " 'isalnum',\n",
       " 'isalpha',\n",
       " 'isascii',\n",
       " 'isdecimal',\n",
       " 'isdigit',\n",
       " 'isidentifier',\n",
       " 'islower',\n",
       " 'isnumeric',\n",
       " 'isprintable',\n",
       " 'isspace',\n",
       " 'istitle',\n",
       " 'isupper',\n",
       " 'join',\n",
       " 'ljust',\n",
       " 'lower',\n",
       " 'lstrip',\n",
       " 'maketrans',\n",
       " 'partition',\n",
       " 'removeprefix',\n",
       " 'removesuffix',\n",
       " 'replace',\n",
       " 'rfind',\n",
       " 'rindex',\n",
       " 'rjust',\n",
       " 'rpartition',\n",
       " 'rsplit',\n",
       " 'rstrip',\n",
       " 'split',\n",
       " 'splitlines',\n",
       " 'startswith',\n",
       " 'strip',\n",
       " 'swapcase',\n",
       " 'title',\n",
       " 'translate',\n",
       " 'upper',\n",
       " 'zfill']"
      ]
     },
     "execution_count": 39,
     "metadata": {},
     "output_type": "execute_result"
    }
   ],
   "source": [
    "dir(var2)"
   ]
  },
  {
   "cell_type": "code",
   "execution_count": 40,
   "id": "ded0d1d0-41c5-4baf-b5e8-1ced226830af",
   "metadata": {},
   "outputs": [
    {
     "name": "stdout",
     "output_type": "stream",
     "text": [
      "Help on built-in function upper:\n",
      "\n",
      "upper() method of builtins.str instance\n",
      "    Return a copy of the string converted to uppercase.\n",
      "\n"
     ]
    }
   ],
   "source": [
    "help(var2.upper)"
   ]
  },
  {
   "cell_type": "code",
   "execution_count": 41,
   "id": "7bb9fcb1-84b3-4796-85a7-5aa79fae7ea8",
   "metadata": {},
   "outputs": [
    {
     "data": {
      "text/plain": [
       "'MANZANA'"
      ]
     },
     "execution_count": 41,
     "metadata": {},
     "output_type": "execute_result"
    }
   ],
   "source": [
    "var2.upper()"
   ]
  },
  {
   "cell_type": "code",
   "execution_count": 42,
   "id": "49c4a7e2-b1b9-42b5-bb9e-f8eddf3d6657",
   "metadata": {},
   "outputs": [
    {
     "data": {
      "text/plain": [
       "'manteca'"
      ]
     },
     "execution_count": 42,
     "metadata": {},
     "output_type": "execute_result"
    }
   ],
   "source": [
    "var2.replace('zan','tec')"
   ]
  },
  {
   "cell_type": "code",
   "execution_count": 43,
   "id": "046edcb4-ca8d-4ac9-8322-f837f5e56b70",
   "metadata": {},
   "outputs": [
    {
     "data": {
      "text/plain": [
       "True"
      ]
     },
     "execution_count": 43,
     "metadata": {},
     "output_type": "execute_result"
    }
   ],
   "source": [
    "var2.endswith('ana')"
   ]
  },
  {
   "cell_type": "markdown",
   "id": "ffcfb02f-78b5-42a7-9b0d-42247f971db9",
   "metadata": {},
   "source": [
    "## Booleanos\n",
    "\n",
    "Las variables que menos espacio ocupan en el disco duro son las variables 'booleanas' o como se le conoce en jerga de programador y en Python: 'bool'. Estas variables sólo toman dos posibles valores: verdadero (True) o falso (False)."
   ]
  },
  {
   "cell_type": "code",
   "execution_count": 44,
   "id": "212707f8-fc03-4671-94e4-ce0b25763d16",
   "metadata": {},
   "outputs": [],
   "source": [
    "var1 = True"
   ]
  },
  {
   "cell_type": "code",
   "execution_count": 45,
   "id": "6efabd29-cc3b-4e59-8278-77a5dd9a7324",
   "metadata": {},
   "outputs": [
    {
     "data": {
      "text/plain": [
       "True"
      ]
     },
     "execution_count": 45,
     "metadata": {},
     "output_type": "execute_result"
    }
   ],
   "source": [
    "var1"
   ]
  },
  {
   "cell_type": "code",
   "execution_count": 46,
   "id": "01f1a044-cea1-4d65-8ec7-b17cdf6128ae",
   "metadata": {},
   "outputs": [
    {
     "data": {
      "text/plain": [
       "bool"
      ]
     },
     "execution_count": 46,
     "metadata": {},
     "output_type": "execute_result"
    }
   ],
   "source": [
    "type(var1)"
   ]
  },
  {
   "cell_type": "markdown",
   "id": "98734aef-e388-4a15-8441-6149ac61997d",
   "metadata": {},
   "source": [
    "Veamos en este caso qué podemos hacer con ellas y los operadores lógicos:"
   ]
  },
  {
   "cell_type": "code",
   "execution_count": 47,
   "id": "b1499173-5cbe-4a7b-b1a2-a7130f5c8fff",
   "metadata": {},
   "outputs": [],
   "source": [
    "var2 = False\n",
    "var3 = True"
   ]
  },
  {
   "cell_type": "code",
   "execution_count": 48,
   "id": "467066cd-3ad7-4db5-99eb-7f357e1ed794",
   "metadata": {},
   "outputs": [
    {
     "data": {
      "text/plain": [
       "False"
      ]
     },
     "execution_count": 48,
     "metadata": {},
     "output_type": "execute_result"
    }
   ],
   "source": [
    "var1 == var2"
   ]
  },
  {
   "cell_type": "code",
   "execution_count": 49,
   "id": "c794eb8b-23d3-4abe-b00d-9fc74c9d8388",
   "metadata": {},
   "outputs": [
    {
     "data": {
      "text/plain": [
       "True"
      ]
     },
     "execution_count": 49,
     "metadata": {},
     "output_type": "execute_result"
    }
   ],
   "source": [
    "var1 or var2"
   ]
  },
  {
   "cell_type": "code",
   "execution_count": 50,
   "id": "56687ad3-7dbf-4eef-92c0-abb53ca3ca66",
   "metadata": {},
   "outputs": [
    {
     "data": {
      "text/plain": [
       "True"
      ]
     },
     "execution_count": 50,
     "metadata": {},
     "output_type": "execute_result"
    }
   ],
   "source": [
    "var1 and var3"
   ]
  },
  {
   "cell_type": "code",
   "execution_count": 51,
   "id": "5b03b3f8-c2c2-4e8c-bb8d-1419e6861ebf",
   "metadata": {},
   "outputs": [
    {
     "data": {
      "text/plain": [
       "False"
      ]
     },
     "execution_count": 51,
     "metadata": {},
     "output_type": "execute_result"
    }
   ],
   "source": [
    "not var1 and not var3"
   ]
  },
  {
   "cell_type": "markdown",
   "id": "7b7c79ce-ea8c-495c-b964-3771bd7479c4",
   "metadata": {},
   "source": [
    "En realidad Python entiende el valor 'True' matemáticamente como 1, y 'False' como 0. Mira esto..."
   ]
  },
  {
   "cell_type": "code",
   "execution_count": 52,
   "id": "481fcff1-6020-4dc2-8336-84c597390f98",
   "metadata": {},
   "outputs": [
    {
     "data": {
      "text/plain": [
       "1"
      ]
     },
     "execution_count": 52,
     "metadata": {},
     "output_type": "execute_result"
    }
   ],
   "source": [
    "var1+var2"
   ]
  },
  {
   "cell_type": "code",
   "execution_count": 53,
   "id": "03d3ad9a-641d-4e56-a319-5868d46f8b9d",
   "metadata": {},
   "outputs": [
    {
     "data": {
      "text/plain": [
       "1"
      ]
     },
     "execution_count": 53,
     "metadata": {},
     "output_type": "execute_result"
    }
   ],
   "source": [
    "var1*var3"
   ]
  },
  {
   "cell_type": "code",
   "execution_count": 54,
   "id": "35bb7260-4fbb-4f3f-bfaa-981049170065",
   "metadata": {},
   "outputs": [
    {
     "data": {
      "text/plain": [
       "True"
      ]
     },
     "execution_count": 54,
     "metadata": {},
     "output_type": "execute_result"
    }
   ],
   "source": [
    "var2 == 0"
   ]
  },
  {
   "cell_type": "markdown",
   "id": "a786c81d-8088-4bae-94c2-eeac6366ee45",
   "metadata": {},
   "source": [
    "## La función print\n",
    "\n",
    "La primera función de python, aunque ya hemos usado alguna (que llamamos 'método 'por estar vinculada a un objeto), que veremos es 'print'. Usamos print para \"imprimir\" o sacar por pantalla el valor de una variable o un valor dado:"
   ]
  },
  {
   "cell_type": "code",
   "execution_count": 55,
   "id": "bce2d6ae-db65-4a72-b6b6-627d7202a390",
   "metadata": {},
   "outputs": [
    {
     "name": "stdout",
     "output_type": "stream",
     "text": [
      "Hola!\n"
     ]
    }
   ],
   "source": [
    "print('Hola!')"
   ]
  },
  {
   "cell_type": "code",
   "execution_count": 56,
   "id": "7ff83a9e-3054-4086-ac8c-d71c40f56091",
   "metadata": {},
   "outputs": [],
   "source": [
    "var1=3\n",
    "var2=6\n",
    "var3='y adiós...'"
   ]
  },
  {
   "cell_type": "code",
   "execution_count": 57,
   "id": "275e8748-2e19-439b-accd-cca94134750d",
   "metadata": {},
   "outputs": [
    {
     "name": "stdout",
     "output_type": "stream",
     "text": [
      "3 6\n"
     ]
    }
   ],
   "source": [
    "print(var1, var2)"
   ]
  },
  {
   "cell_type": "code",
   "execution_count": 58,
   "id": "3274f6ba-f311-4081-a867-ff33d84331cc",
   "metadata": {},
   "outputs": [
    {
     "name": "stdout",
     "output_type": "stream",
     "text": [
      "9\n"
     ]
    }
   ],
   "source": [
    "print(var1+var2)"
   ]
  },
  {
   "cell_type": "code",
   "execution_count": 59,
   "id": "a3d309da-4a87-4126-8283-993e51b6ad3b",
   "metadata": {},
   "outputs": [
    {
     "name": "stdout",
     "output_type": "stream",
     "text": [
      "Hola y adiós...\n"
     ]
    }
   ],
   "source": [
    "print('Hola'+' '+var3)"
   ]
  },
  {
   "cell_type": "markdown",
   "id": "9a7c9bc5-a197-47e9-80c6-2b8fbb67d99b",
   "metadata": {},
   "source": [
    "La función \"print\" requiere más explicaciones porque da mucho más juego. Pero por el momento y como presentación es suficiente. Veremos más adelante junto con la función \"write\" muchas otras cosas de ella."
   ]
  },
  {
   "cell_type": "markdown",
   "id": "4f2a2c41-412e-477f-9f64-dd739c038f1f",
   "metadata": {},
   "source": [
    "## Listas y tuplas"
   ]
  },
  {
   "cell_type": "markdown",
   "id": "3f1a3fed-fd31-4939-9189-5f121227f79c",
   "metadata": {},
   "source": [
    "\n",
    "Además estas variables pueden ser almacenadas en listas o tuplas. Aunque para un purista la lista y la tupla son [objetos filosóficamente distintos](https://stackoverflow.com/questions/626759/whats-the-difference-between-lists-and-tuples/626871#626871), ambas se manejan de manera similar. [Una de las pocas diferencias](https://www.uno-de-piera.com/diferencias-entre-listas-y-tuplas-en-python/) es que, como veremos, una puede ser mutada, y la otra no.\n",
    "\n",
    "Veamos una tupla..."
   ]
  },
  {
   "cell_type": "code",
   "execution_count": 60,
   "id": "9f21e5ca-645e-4349-b296-c0d9e32455d6",
   "metadata": {},
   "outputs": [],
   "source": [
    "var1=3\n",
    "var2='hola'\n",
    "var3=True"
   ]
  },
  {
   "cell_type": "code",
   "execution_count": 61,
   "id": "1189be7a-e7ea-4dea-a5a7-38defe2eee3d",
   "metadata": {},
   "outputs": [],
   "source": [
    "una_tupla = (var1, var2, var3, 5.2)"
   ]
  },
  {
   "cell_type": "code",
   "execution_count": 62,
   "id": "533ca1b2-a689-4e17-b0ca-dca1d21fa4d3",
   "metadata": {},
   "outputs": [
    {
     "data": {
      "text/plain": [
       "tuple"
      ]
     },
     "execution_count": 62,
     "metadata": {},
     "output_type": "execute_result"
    }
   ],
   "source": [
    "type(una_tupla)"
   ]
  },
  {
   "cell_type": "code",
   "execution_count": 63,
   "id": "2c132be2-6d0b-4a71-b733-a487285915fb",
   "metadata": {},
   "outputs": [
    {
     "data": {
      "text/plain": [
       "(3, 'hola', True, 5.2)"
      ]
     },
     "execution_count": 63,
     "metadata": {},
     "output_type": "execute_result"
    }
   ],
   "source": [
    "una_tupla"
   ]
  },
  {
   "cell_type": "markdown",
   "id": "c6aa072a-cf51-4a33-9a31-493b580075ad",
   "metadata": {},
   "source": [
    "Y ahora veamos una lista..."
   ]
  },
  {
   "cell_type": "code",
   "execution_count": 64,
   "id": "b5438d80-b8e3-4329-a8ca-6b7469f0dc32",
   "metadata": {},
   "outputs": [],
   "source": [
    "una_lista = [var1, var2, var3, var4]"
   ]
  },
  {
   "cell_type": "code",
   "execution_count": 65,
   "id": "046ade44-6b4c-40e2-bc48-d595cd173c6d",
   "metadata": {},
   "outputs": [
    {
     "data": {
      "text/plain": [
       "list"
      ]
     },
     "execution_count": 65,
     "metadata": {},
     "output_type": "execute_result"
    }
   ],
   "source": [
    "type(una_lista)"
   ]
  },
  {
   "cell_type": "code",
   "execution_count": 66,
   "id": "c3d949a9-c523-4a44-9dde-bb2700a49d35",
   "metadata": {},
   "outputs": [
    {
     "data": {
      "text/plain": [
       "[3, 'hola', True, True]"
      ]
     },
     "execution_count": 66,
     "metadata": {},
     "output_type": "execute_result"
    }
   ],
   "source": [
    "una_lista"
   ]
  },
  {
   "cell_type": "markdown",
   "id": "e4024901-936d-4062-8be5-309d7fa2d053",
   "metadata": {},
   "source": [
    "Como ves, ahora mismo la única diferencia es que una se define entre paréntesis y la otra entre corchetes. Veamos ahora la diferencia más relevante:"
   ]
  },
  {
   "cell_type": "code",
   "execution_count": 67,
   "id": "64ea6902-ad48-4b50-8e55-77162dfff0de",
   "metadata": {},
   "outputs": [
    {
     "data": {
      "text/plain": [
       "3"
      ]
     },
     "execution_count": 67,
     "metadata": {},
     "output_type": "execute_result"
    }
   ],
   "source": [
    "una_lista[0]"
   ]
  },
  {
   "cell_type": "code",
   "execution_count": 68,
   "id": "2a2a1bb6-af7f-4888-a5b2-ba7e6bd95995",
   "metadata": {},
   "outputs": [],
   "source": [
    "una_lista[0] = 8"
   ]
  },
  {
   "cell_type": "code",
   "execution_count": 69,
   "id": "45611ffb-224e-4fa2-bd0d-64293aeea0e2",
   "metadata": {},
   "outputs": [
    {
     "name": "stdout",
     "output_type": "stream",
     "text": [
      "[8, 'hola', True, True]\n"
     ]
    }
   ],
   "source": [
    "print(una_lista)"
   ]
  },
  {
   "cell_type": "markdown",
   "id": "34a6dd0e-79be-40ca-807b-caa4106766c4",
   "metadata": {},
   "source": [
    "A una lista le podemos reasignar valor a sus elementos. Sin embargo, a una tupla no. Prueba a hacer lo anterior en la tupla y verás."
   ]
  },
  {
   "cell_type": "markdown",
   "id": "53daa2ce-d41a-43fb-97d6-1d43b2da3b35",
   "metadata": {},
   "source": [
    "Volviendo a las cosas que una lista y una tupla tienen en común podemos añadir que ambos son objetos que permiten operaciones algebráicas:"
   ]
  },
  {
   "cell_type": "code",
   "execution_count": 70,
   "id": "074fff48-4a55-4b74-b771-e9fd562d96b8",
   "metadata": {},
   "outputs": [
    {
     "name": "stdout",
     "output_type": "stream",
     "text": [
      "[8, 'hola', True, True, 'pato', 'peto', 'pito']\n"
     ]
    }
   ],
   "source": [
    "otra_lista = ['pato','peto','pito']\n",
    "requetelista = una_lista + otra_lista\n",
    "print(requetelista)"
   ]
  },
  {
   "cell_type": "code",
   "execution_count": 71,
   "id": "f15fd9e2-fe36-4c85-87b9-2d1ad1bf15ca",
   "metadata": {},
   "outputs": [
    {
     "data": {
      "text/plain": [
       "[0, 1, 2, 2]"
      ]
     },
     "execution_count": 71,
     "metadata": {},
     "output_type": "execute_result"
    }
   ],
   "source": [
    "[0,1,2]+[2]"
   ]
  },
  {
   "cell_type": "code",
   "execution_count": 72,
   "id": "d7f36a41-f191-4ad6-b845-58feb8c2aa8d",
   "metadata": {},
   "outputs": [
    {
     "data": {
      "text/plain": [
       "('a', 'b', 'c', 'a', 'b', 'c', 'a', 'b', 'c', 'a', 'b', 'c')"
      ]
     },
     "execution_count": 72,
     "metadata": {},
     "output_type": "execute_result"
    }
   ],
   "source": [
    "('a','b','c')*4"
   ]
  },
  {
   "cell_type": "markdown",
   "id": "3b617f62-4076-4754-a79b-8db24a025cd0",
   "metadata": {},
   "source": [
    "Además, las tuplas y las listas son objetos. Si se pueden hacer listas o tuplas de objetos, también se pueden hacer listas de listas, tuplas de tuplas, listas de tuplas o tuplas de listas, o listas de tuplas de tuplas de listas, etc."
   ]
  },
  {
   "cell_type": "code",
   "execution_count": 73,
   "id": "8da87e05-1914-41d4-9668-2e7d0a93ec72",
   "metadata": {},
   "outputs": [],
   "source": [
    "quimera = ['a','b',[1,2,3],'d',('pato','peto','pito')]"
   ]
  },
  {
   "cell_type": "code",
   "execution_count": 74,
   "id": "3169e76e-5f5f-4707-977e-fb65f01f9d36",
   "metadata": {},
   "outputs": [
    {
     "data": {
      "text/plain": [
       "'b'"
      ]
     },
     "execution_count": 74,
     "metadata": {},
     "output_type": "execute_result"
    }
   ],
   "source": [
    "quimera[1]"
   ]
  },
  {
   "cell_type": "code",
   "execution_count": 75,
   "id": "38b8f3de-6d4b-4bcb-8b98-53dec778b801",
   "metadata": {},
   "outputs": [
    {
     "data": {
      "text/plain": [
       "3"
      ]
     },
     "execution_count": 75,
     "metadata": {},
     "output_type": "execute_result"
    }
   ],
   "source": [
    "quimera[2][2]"
   ]
  },
  {
   "cell_type": "code",
   "execution_count": 76,
   "id": "430559d3-c959-43ab-aef2-0c7cd24c3054",
   "metadata": {},
   "outputs": [
    {
     "data": {
      "text/plain": [
       "('pato', 'peto', 'pito')"
      ]
     },
     "execution_count": 76,
     "metadata": {},
     "output_type": "execute_result"
    }
   ],
   "source": [
    "quimera[4]"
   ]
  },
  {
   "cell_type": "markdown",
   "id": "6d932bdd-6e90-405b-89a4-8fc7be2c9ecf",
   "metadata": {},
   "source": [
    "En Python el primer elemento es siempre el cero '0'. Y al último podemos acceder con el '-1'... y al antepenúmltimo con '-2', y así sucesivamente."
   ]
  },
  {
   "cell_type": "code",
   "execution_count": 77,
   "id": "86a44de2-97bf-408c-962f-8f33b74a60e3",
   "metadata": {},
   "outputs": [
    {
     "data": {
      "text/plain": [
       "'pato'"
      ]
     },
     "execution_count": 77,
     "metadata": {},
     "output_type": "execute_result"
    }
   ],
   "source": [
    "quimera[4][0]"
   ]
  },
  {
   "cell_type": "code",
   "execution_count": 78,
   "id": "a18692ff-c6a9-45a0-a58b-6276162f58ea",
   "metadata": {},
   "outputs": [
    {
     "data": {
      "text/plain": [
       "'pito'"
      ]
     },
     "execution_count": 78,
     "metadata": {},
     "output_type": "execute_result"
    }
   ],
   "source": [
    "quimera[4][-1]"
   ]
  },
  {
   "cell_type": "code",
   "execution_count": 79,
   "id": "88c4b104-c1f9-4eea-9f6e-1d242e5b1316",
   "metadata": {},
   "outputs": [
    {
     "data": {
      "text/plain": [
       "'peto'"
      ]
     },
     "execution_count": 79,
     "metadata": {},
     "output_type": "execute_result"
    }
   ],
   "source": [
    "quimera[4][-2]"
   ]
  },
  {
   "cell_type": "markdown",
   "id": "d97c35ea-d89b-4112-8ba4-32b9e0a28379",
   "metadata": {},
   "source": [
    "A podemos jugar con el símbolo ':' para acceder a todos los elementos, o a los posteriores o precedentes a un índice dado:"
   ]
  },
  {
   "cell_type": "code",
   "execution_count": 80,
   "id": "2bb229a4-dfe1-4c4e-9c82-3efe66b0198c",
   "metadata": {},
   "outputs": [],
   "source": [
    "otra_lista=['aa', 'bb', 'cc', 'dd', 'ee', 'ff']"
   ]
  },
  {
   "cell_type": "code",
   "execution_count": 81,
   "id": "cd528d9f-abea-4e7f-932f-ceac94ffb079",
   "metadata": {},
   "outputs": [
    {
     "data": {
      "text/plain": [
       "['aa', 'bb', 'cc', 'dd', 'ee', 'ff']"
      ]
     },
     "execution_count": 81,
     "metadata": {},
     "output_type": "execute_result"
    }
   ],
   "source": [
    "otra_lista[:]"
   ]
  },
  {
   "cell_type": "code",
   "execution_count": 82,
   "id": "3dbda899-127f-41f5-b629-9580ad845b6b",
   "metadata": {},
   "outputs": [
    {
     "data": {
      "text/plain": [
       "['dd', 'ee', 'ff']"
      ]
     },
     "execution_count": 82,
     "metadata": {},
     "output_type": "execute_result"
    }
   ],
   "source": [
    "otra_lista[3:]"
   ]
  },
  {
   "cell_type": "code",
   "execution_count": 83,
   "id": "16c6aba7-9bec-439e-aa08-14c421d4bf6f",
   "metadata": {},
   "outputs": [
    {
     "data": {
      "text/plain": [
       "['aa', 'bb', 'cc']"
      ]
     },
     "execution_count": 83,
     "metadata": {},
     "output_type": "execute_result"
    }
   ],
   "source": [
    "otra_lista[:3]"
   ]
  },
  {
   "cell_type": "code",
   "execution_count": 84,
   "id": "696c901b-0a89-4e2a-98cf-67461e22056c",
   "metadata": {},
   "outputs": [
    {
     "data": {
      "text/plain": [
       "['cc', 'dd']"
      ]
     },
     "execution_count": 84,
     "metadata": {},
     "output_type": "execute_result"
    }
   ],
   "source": [
    "otra_lista[2:4]"
   ]
  },
  {
   "cell_type": "markdown",
   "id": "357b251b-3eb6-48dc-a9ee-9e5651d84cf0",
   "metadata": {},
   "source": [
    "## Sets"
   ]
  },
  {
   "cell_type": "markdown",
   "id": "ed415f07-1f42-4d58-9469-879eb7a24892",
   "metadata": {},
   "source": [
    "En Python existe la manera de almacenar elementos sin orden, conjuntos en los que sus componentes no están jerarquizados o indexados. A este conjunto se le llama `set` y se define entre llaves. Estos objetos tienen incluso sus propias funciones útiles."
   ]
  },
  {
   "cell_type": "code",
   "execution_count": 85,
   "id": "4e291e16-f526-4f0c-b47e-0125239dac06",
   "metadata": {},
   "outputs": [],
   "source": [
    "conjunto_A = {2, 1, 6, 3}\n",
    "conjunto_B = {10, 6, 2, 12}"
   ]
  },
  {
   "cell_type": "code",
   "execution_count": 86,
   "id": "e7629ef4-3b37-4ad9-9376-d49d93674b7b",
   "metadata": {},
   "outputs": [
    {
     "data": {
      "text/plain": [
       "set"
      ]
     },
     "execution_count": 86,
     "metadata": {},
     "output_type": "execute_result"
    }
   ],
   "source": [
    "type(conjunto_A)"
   ]
  },
  {
   "cell_type": "code",
   "execution_count": 87,
   "id": "f1960824-d086-43e2-9bb5-383ad34cb620",
   "metadata": {},
   "outputs": [],
   "source": [
    "conjunto_A.add(0)"
   ]
  },
  {
   "cell_type": "markdown",
   "id": "fa879a09-8c30-4199-8f40-a7c481cdbd5b",
   "metadata": {},
   "source": [
    "Y podemos realizar operaciones de teoría de conjuntos:"
   ]
  },
  {
   "cell_type": "code",
   "execution_count": 88,
   "id": "6e616c4e-417a-4fad-aece-63b7c92b0470",
   "metadata": {},
   "outputs": [
    {
     "data": {
      "text/plain": [
       "{0, 1, 2, 3, 6, 10, 12}"
      ]
     },
     "execution_count": 88,
     "metadata": {},
     "output_type": "execute_result"
    }
   ],
   "source": [
    "conjunto_A | conjunto_B # el simbolo \"|\" crea la unión de conjuntos"
   ]
  },
  {
   "cell_type": "code",
   "execution_count": 89,
   "id": "dcb3782f-e58d-460e-b9fe-9a491c137451",
   "metadata": {},
   "outputs": [
    {
     "data": {
      "text/plain": [
       "{2, 6}"
      ]
     },
     "execution_count": 89,
     "metadata": {},
     "output_type": "execute_result"
    }
   ],
   "source": [
    "conjunto_A & conjunto_B # el simbolo \"&\" crea la intersección de conjuntos"
   ]
  },
  {
   "cell_type": "markdown",
   "id": "21031c9f-78a4-4df9-8bb8-0c0d5212d2fb",
   "metadata": {},
   "source": [
    "## Diccionarios"
   ]
  },
  {
   "cell_type": "markdown",
   "id": "0b650320-c7e7-4c6c-8895-8ba66af1fc9e",
   "metadata": {},
   "source": [
    "Por último Python dispone de otra clase de objetos llamada diccionario (`dict`). El diccionario es la relación no ordenada entre claves y valores, y se define con ayuda de las llaves:"
   ]
  },
  {
   "cell_type": "code",
   "execution_count": 90,
   "id": "d1c03109-6983-45ea-a845-5b1bf76b7a95",
   "metadata": {},
   "outputs": [],
   "source": [
    "un_diccionario = {'hello':'hola', 'apple':'manzana', 'house':'casa'}"
   ]
  },
  {
   "cell_type": "code",
   "execution_count": 91,
   "id": "97967f7a-194b-4c57-b903-0a94776acacc",
   "metadata": {},
   "outputs": [
    {
     "data": {
      "text/plain": [
       "dict"
      ]
     },
     "execution_count": 91,
     "metadata": {},
     "output_type": "execute_result"
    }
   ],
   "source": [
    "type(un_diccionario)"
   ]
  },
  {
   "cell_type": "code",
   "execution_count": 92,
   "id": "a7761c0b-3415-4b08-8a45-9eaf407e19ff",
   "metadata": {},
   "outputs": [
    {
     "data": {
      "text/plain": [
       "{'hello': 'hola', 'apple': 'manzana', 'house': 'casa'}"
      ]
     },
     "execution_count": 92,
     "metadata": {},
     "output_type": "execute_result"
    }
   ],
   "source": [
    "un_diccionario"
   ]
  },
  {
   "cell_type": "code",
   "execution_count": 93,
   "id": "cc7e4df5-5da2-4375-8d21-bc83be719d9c",
   "metadata": {},
   "outputs": [
    {
     "data": {
      "text/plain": [
       "dict_keys(['hello', 'apple', 'house'])"
      ]
     },
     "execution_count": 93,
     "metadata": {},
     "output_type": "execute_result"
    }
   ],
   "source": [
    "un_diccionario.keys()"
   ]
  },
  {
   "cell_type": "code",
   "execution_count": 94,
   "id": "3c7d8aea-5c60-4604-8e0f-cf2791f08ef4",
   "metadata": {},
   "outputs": [
    {
     "data": {
      "text/plain": [
       "dict_values(['hola', 'manzana', 'casa'])"
      ]
     },
     "execution_count": 94,
     "metadata": {},
     "output_type": "execute_result"
    }
   ],
   "source": [
    "un_diccionario.values()"
   ]
  },
  {
   "cell_type": "code",
   "execution_count": 95,
   "id": "38b65c81-3e26-464a-9fd2-fcd87bcdf82d",
   "metadata": {},
   "outputs": [
    {
     "data": {
      "text/plain": [
       "'casa'"
      ]
     },
     "execution_count": 95,
     "metadata": {},
     "output_type": "execute_result"
    }
   ],
   "source": [
    "un_diccionario['house']"
   ]
  },
  {
   "cell_type": "code",
   "execution_count": 96,
   "id": "01ca2ffb-f979-47fe-bb16-869c4eaa33d3",
   "metadata": {},
   "outputs": [
    {
     "data": {
      "text/plain": [
       "True"
      ]
     },
     "execution_count": 96,
     "metadata": {},
     "output_type": "execute_result"
    }
   ],
   "source": [
    "'apple' in un_diccionario  # así podemos ver si un valor está en el diccionario como clave."
   ]
  },
  {
   "cell_type": "markdown",
   "id": "3c6d39d6-1bb8-4e13-9070-8f5a9781bded",
   "metadata": {},
   "source": [
    "Es la tercera vez que ves '#'. Seguramente ya habrás deducido que '#' sirve para comentar código. Aquí va otro ejemplo de código con comentarios:"
   ]
  },
  {
   "cell_type": "code",
   "execution_count": 97,
   "id": "82975de4-3be8-4a6f-8666-5ba5ac31b24b",
   "metadata": {},
   "outputs": [
    {
     "name": "stdout",
     "output_type": "stream",
     "text": [
      "2.5\n"
     ]
    }
   ],
   "source": [
    "# Almaceno el resultado de una operación matemática\n",
    "resultado=(2+3)/2\n",
    "# Y lo saco por pantalla\n",
    "print(resultado)"
   ]
  },
  {
   "cell_type": "markdown",
   "id": "27584e71-e082-4946-aef8-1d0b041021ac",
   "metadata": {},
   "source": [
    "## Estructuras condicionales\n",
    "\n",
    "Otros elementos comunes a todo lenguaje de programación son las estructuras condicionales y los bucles. Veamos unos ejemplos.\n",
    "\n",
    "### El condicional `if`..."
   ]
  },
  {
   "cell_type": "code",
   "execution_count": 98,
   "id": "1a20db92-d987-4dba-b388-4dbe9e06beee",
   "metadata": {},
   "outputs": [],
   "source": [
    "# introduce en esta variable un nombre de persona:\n",
    "persona = 'Alberto'"
   ]
  },
  {
   "cell_type": "code",
   "execution_count": 99,
   "id": "202b4502-3a10-4cc4-b568-ebe2bc837c96",
   "metadata": {},
   "outputs": [
    {
     "name": "stdout",
     "output_type": "stream",
     "text": [
      "Puede que Alberto sea de sexo masculino.\n"
     ]
    }
   ],
   "source": [
    "if persona.endswith('a'):\n",
    "    print('Puede que', persona, 'sea de sexo femenino.')\n",
    "elif persona.endswith('o'):\n",
    "    print('Puede que', persona, 'sea de sexo masculino.')\n",
    "else:\n",
    "    print('No sé que sexo tiene', persona)"
   ]
  },
  {
   "cell_type": "markdown",
   "id": "ff9f14e7-f23c-4315-8aba-06926f62bd6b",
   "metadata": {},
   "source": [
    "Como acabas de ver, Python tienen en su sintaxis tres palabras para imponer condicionales:\n",
    "\n",
    "- `if`: 'si...'\n",
    "- `elif`: 'si es que no entonces si...'\n",
    "- `else`: 'si no...'"
   ]
  },
  {
   "cell_type": "markdown",
   "id": "f1f985dc-ffba-439c-857d-34a97e5bdccd",
   "metadata": {},
   "source": [
    "Estos condicionales se pueden anidar dando lugar a complejas estructuras lógicas:"
   ]
  },
  {
   "cell_type": "code",
   "execution_count": 100,
   "id": "b62430c3-499c-4ccd-b1bb-58fab1d0d333",
   "metadata": {},
   "outputs": [
    {
     "name": "stdout",
     "output_type": "stream",
     "text": [
      "es una vaca\n"
     ]
    }
   ],
   "source": [
    "número_patas = 4\n",
    "según_lo_que_come = 'herbívoro'\n",
    "\n",
    "if según_lo_que_come == 'carnívoro':\n",
    "    if número_patas == 4:\n",
    "        print('es un león')\n",
    "    elif número_patas == 2:\n",
    "        print('es un Tyrannosaurus rex')\n",
    "    else:\n",
    "        print('no sé lo que es')\n",
    "elif según_lo_que_come == 'herbívoro':\n",
    "    if número_patas == 4:\n",
    "        print('es una vaca')\n",
    "    elif número_patas == 2:\n",
    "        print('es un pato')\n",
    "    else:\n",
    "        print('no sé lo que es')"
   ]
  },
  {
   "cell_type": "markdown",
   "id": "ceda44d1-a14d-44ec-9fd9-d246926156f1",
   "metadata": {},
   "source": [
    "### El condicional `case`...\n",
    "\n",
    "El condicional `case` es un elemento nuevo de Python incluido en su versión 3.10. A partir de esta versión, situaciones como la siguiente:"
   ]
  },
  {
   "cell_type": "code",
   "execution_count": 101,
   "id": "bcf995f8-8633-4d2c-86fd-c3e5f0b93674",
   "metadata": {},
   "outputs": [
    {
     "name": "stdout",
     "output_type": "stream",
     "text": [
      "Nunca es tarde para aprender Python\n"
     ]
    }
   ],
   "source": [
    "edad = 120\n",
    "\n",
    "if edad > 90:\n",
    "    print(\"Nunca es tarde para aprender Python\")\n",
    "elif edad > 65:\n",
    "    print(\"Ojalá encuentres ahora el tiempo para hacer lo que estabas postponiendo: aprender Python.\")\n",
    "elif edad > 14:\n",
    "    print(\"Se te abrirán muchas puertas con Python o cualquier otro lenguaje de programación.\")\n",
    "else: \n",
    "    print(\"Puedes encontrar en internet muchos juegos para aprender a programar.\")"
   ]
  },
  {
   "cell_type": "markdown",
   "id": "ee638054-a8df-452e-8d71-3344a2128089",
   "metadata": {},
   "source": [
    "Pueden ahora resolverse con el condicional `case` cuando los valores con los que se definen las condiciones son constantes:"
   ]
  },
  {
   "cell_type": "code",
   "execution_count": 102,
   "id": "ffbe4f34-77a3-4872-a6a0-0eb5323ffa57",
   "metadata": {},
   "outputs": [
    {
     "name": "stdout",
     "output_type": "stream",
     "text": [
      "La botella está ya medio vacia...\n"
     ]
    }
   ],
   "source": [
    "dia = 'Miércoles'\n",
    "\n",
    "match dia:\n",
    "    case 'Lunes':\n",
    "        print('Que tengas buen inicio de semana.')\n",
    "    case 'Martes':\n",
    "        print('Ánimo, es martes!')\n",
    "    case 'Miércoles':\n",
    "        print('La botella está ya medio vacia...')\n",
    "    case 'Jueves':\n",
    "        print('Un último empujón y ya es viernes.')\n",
    "    case 'Viernes':\n",
    "        print('Es viernes de culpa... seguro que no hiciste todo lo que querías.')\n",
    "    case _:\n",
    "        print('Es fin de semana y tu cuerpo lo sabe.')"
   ]
  },
  {
   "cell_type": "code",
   "execution_count": 103,
   "id": "64da09b2-e2a2-4cc9-ba55-b36e1ebae963",
   "metadata": {},
   "outputs": [],
   "source": [
    "hora = 14\n",
    "\n",
    "match hora:\n",
    "    case 8:\n",
    "        print('Deberías estar durmiendo.')"
   ]
  },
  {
   "cell_type": "markdown",
   "id": "e91d6287-0e0c-4eed-9960-bf7daf045973",
   "metadata": {},
   "source": [
    "## Iteradores y bucles"
   ]
  },
  {
   "cell_type": "markdown",
   "id": "283a3180-d1b6-4524-bc18-56d13fe9c0e3",
   "metadata": {},
   "source": [
    "### El iterador `for`..."
   ]
  },
  {
   "cell_type": "markdown",
   "id": "66696d9e-a9e6-4715-b490-37e092434ff2",
   "metadata": {},
   "source": [
    "Otro elemento de Python para el control de flujo son los bucles o iteraciones. En todo lenguaje de programación podemos encontrar una orden que nos permite repetir un blóque de código las veces que deseemos, cambiando incluso el contenido de una variable:"
   ]
  },
  {
   "cell_type": "code",
   "execution_count": 104,
   "id": "a27a664d-20e3-4a70-adac-9b78407dbb44",
   "metadata": {},
   "outputs": [
    {
     "name": "stdout",
     "output_type": "stream",
     "text": [
      "casa tiene 4 letras\n",
      "trompeta tiene 8 letras\n",
      "zapato tiene 6 letras\n"
     ]
    }
   ],
   "source": [
    "for palabra in ['casa','trompeta','zapato']:\n",
    "    print(palabra, 'tiene', len(palabra), 'letras')"
   ]
  },
  {
   "cell_type": "code",
   "execution_count": 105,
   "id": "4c2d9e5a-f5b2-42e4-86c3-2e898ba2b965",
   "metadata": {},
   "outputs": [
    {
     "name": "stdout",
     "output_type": "stream",
     "text": [
      "0 x 8 = 0\n",
      "1 x 8 = 8\n",
      "2 x 8 = 16\n",
      "3 x 8 = 24\n",
      "4 x 8 = 32\n",
      "5 x 8 = 40\n",
      "6 x 8 = 48\n",
      "7 x 8 = 56\n",
      "8 x 8 = 64\n",
      "9 x 8 = 72\n",
      "10 x 8 = 80\n"
     ]
    }
   ],
   "source": [
    "for número in range(11):\n",
    "    print(str(número),'x 8 =', número*8)"
   ]
  },
  {
   "cell_type": "markdown",
   "id": "ab16da87-ad67-4e25-a27b-663abd6c3e3d",
   "metadata": {},
   "source": [
    "En esta última celda hemos hecho uso de un iterador de Python muy útil: `range()`. Decimos que es un iterador porque funciona como un generador de números que solito, sin iterar, no tiene sentido:"
   ]
  },
  {
   "cell_type": "code",
   "execution_count": 106,
   "id": "f40cec21-5da3-4d85-9ace-7700a5cee88c",
   "metadata": {},
   "outputs": [
    {
     "name": "stdout",
     "output_type": "stream",
     "text": [
      "Help on class range in module builtins:\n",
      "\n",
      "class range(object)\n",
      " |  range(stop) -> range object\n",
      " |  range(start, stop[, step]) -> range object\n",
      " |  \n",
      " |  Return an object that produces a sequence of integers from start (inclusive)\n",
      " |  to stop (exclusive) by step.  range(i, j) produces i, i+1, i+2, ..., j-1.\n",
      " |  start defaults to 0, and stop is omitted!  range(4) produces 0, 1, 2, 3.\n",
      " |  These are exactly the valid indices for a list of 4 elements.\n",
      " |  When step is given, it specifies the increment (or decrement).\n",
      " |  \n",
      " |  Methods defined here:\n",
      " |  \n",
      " |  __bool__(self, /)\n",
      " |      True if self else False\n",
      " |  \n",
      " |  __contains__(self, key, /)\n",
      " |      Return key in self.\n",
      " |  \n",
      " |  __eq__(self, value, /)\n",
      " |      Return self==value.\n",
      " |  \n",
      " |  __ge__(self, value, /)\n",
      " |      Return self>=value.\n",
      " |  \n",
      " |  __getattribute__(self, name, /)\n",
      " |      Return getattr(self, name).\n",
      " |  \n",
      " |  __getitem__(self, key, /)\n",
      " |      Return self[key].\n",
      " |  \n",
      " |  __gt__(self, value, /)\n",
      " |      Return self>value.\n",
      " |  \n",
      " |  __hash__(self, /)\n",
      " |      Return hash(self).\n",
      " |  \n",
      " |  __iter__(self, /)\n",
      " |      Implement iter(self).\n",
      " |  \n",
      " |  __le__(self, value, /)\n",
      " |      Return self<=value.\n",
      " |  \n",
      " |  __len__(self, /)\n",
      " |      Return len(self).\n",
      " |  \n",
      " |  __lt__(self, value, /)\n",
      " |      Return self<value.\n",
      " |  \n",
      " |  __ne__(self, value, /)\n",
      " |      Return self!=value.\n",
      " |  \n",
      " |  __reduce__(...)\n",
      " |      Helper for pickle.\n",
      " |  \n",
      " |  __repr__(self, /)\n",
      " |      Return repr(self).\n",
      " |  \n",
      " |  __reversed__(...)\n",
      " |      Return a reverse iterator.\n",
      " |  \n",
      " |  count(...)\n",
      " |      rangeobject.count(value) -> integer -- return number of occurrences of value\n",
      " |  \n",
      " |  index(...)\n",
      " |      rangeobject.index(value) -> integer -- return index of value.\n",
      " |      Raise ValueError if the value is not present.\n",
      " |  \n",
      " |  ----------------------------------------------------------------------\n",
      " |  Static methods defined here:\n",
      " |  \n",
      " |  __new__(*args, **kwargs) from builtins.type\n",
      " |      Create and return a new object.  See help(type) for accurate signature.\n",
      " |  \n",
      " |  ----------------------------------------------------------------------\n",
      " |  Data descriptors defined here:\n",
      " |  \n",
      " |  start\n",
      " |  \n",
      " |  step\n",
      " |  \n",
      " |  stop\n",
      "\n"
     ]
    }
   ],
   "source": [
    "help(range)"
   ]
  },
  {
   "cell_type": "code",
   "execution_count": 107,
   "id": "5c9f954b-330c-4eb3-978b-42c867b37a44",
   "metadata": {},
   "outputs": [
    {
     "data": {
      "text/plain": [
       "range(0, 10, 2)"
      ]
     },
     "execution_count": 107,
     "metadata": {},
     "output_type": "execute_result"
    }
   ],
   "source": [
    "range(0,10,2)"
   ]
  },
  {
   "cell_type": "code",
   "execution_count": 108,
   "id": "b071ac70-8fb7-4d97-be6a-a05fcc4552c0",
   "metadata": {},
   "outputs": [
    {
     "name": "stdout",
     "output_type": "stream",
     "text": [
      "range(0, 10, 2)\n"
     ]
    }
   ],
   "source": [
    "print(range(0,10,2))"
   ]
  },
  {
   "cell_type": "code",
   "execution_count": 109,
   "id": "5dc3dcd5-1fec-4434-9794-4721169434a1",
   "metadata": {},
   "outputs": [
    {
     "name": "stdout",
     "output_type": "stream",
     "text": [
      "0\n",
      "2\n",
      "4\n",
      "6\n",
      "8\n"
     ]
    }
   ],
   "source": [
    "for ii in range(0,10,2):\n",
    "    print(ii)"
   ]
  },
  {
   "cell_type": "markdown",
   "id": "f9d846e0-d7da-4592-bda6-8d35d91f749c",
   "metadata": {},
   "source": [
    "Observa, como en el ejemplo de la tabla de multiplicar, que `range()` tiene como argumento el límite de la secuencia sin llegar a el."
   ]
  },
  {
   "cell_type": "code",
   "execution_count": 110,
   "id": "3f4035df-d3ae-429c-b564-1c2c22a08327",
   "metadata": {},
   "outputs": [],
   "source": [
    "cero_uno_dos = list(range(3))"
   ]
  },
  {
   "cell_type": "code",
   "execution_count": 111,
   "id": "79651a6c-ae66-4a22-b10d-f5e369b3301d",
   "metadata": {},
   "outputs": [
    {
     "name": "stdout",
     "output_type": "stream",
     "text": [
      "[0, 1, 2]\n"
     ]
    }
   ],
   "source": [
    "print(cero_uno_dos)"
   ]
  },
  {
   "cell_type": "code",
   "execution_count": 112,
   "id": "5abf191b-286b-4b95-b5f3-407914a141e1",
   "metadata": {},
   "outputs": [],
   "source": [
    "uno_dos_tres = list(range(1,4))"
   ]
  },
  {
   "cell_type": "code",
   "execution_count": 113,
   "id": "2411d366-0c9b-4062-b2d6-307a4a3e69ae",
   "metadata": {},
   "outputs": [
    {
     "name": "stdout",
     "output_type": "stream",
     "text": [
      "[1, 2, 3]\n"
     ]
    }
   ],
   "source": [
    "print(uno_dos_tres)"
   ]
  },
  {
   "cell_type": "markdown",
   "id": "98c061e9-463d-4ba5-b71d-d5662cb2654c",
   "metadata": {},
   "source": [
    "### El iterador `while`..."
   ]
  },
  {
   "cell_type": "markdown",
   "id": "353f91f2-8e83-44a0-b33b-3b2059902c3a",
   "metadata": {},
   "source": [
    "Podemos tambien repetir un bloque de código hasta que se cumpla una cierta condición:"
   ]
  },
  {
   "cell_type": "code",
   "execution_count": 114,
   "id": "781432c6-167e-4d98-b7b8-9e3a502ec3fe",
   "metadata": {},
   "outputs": [
    {
     "name": "stdout",
     "output_type": "stream",
     "text": [
      "1\n",
      "4\n",
      "9\n",
      "16\n",
      "25\n",
      "36\n",
      "49\n",
      "64\n",
      "81\n"
     ]
    }
   ],
   "source": [
    "ii = 1\n",
    "\n",
    "while ii < 10:\n",
    "    print(ii**2)\n",
    "    ii+=1 # '+=' sirve para incrementar el valor de algo, sería lo mismo que ii=ii+1"
   ]
  },
  {
   "cell_type": "markdown",
   "id": "7965c9ea-bf2a-452a-a429-a6325aaa0a48",
   "metadata": {},
   "source": [
    "### Interrumpiendo los bucles\n",
    "\n",
    "Los bucles se pueden alterar con ordenes como `break` o `continue`:"
   ]
  },
  {
   "cell_type": "code",
   "execution_count": 115,
   "id": "e13a60cf-355d-435e-82ee-e7bb1d41befe",
   "metadata": {},
   "outputs": [
    {
     "name": "stdout",
     "output_type": "stream",
     "text": [
      "0\n",
      "1\n",
      "2\n",
      "3\n",
      "4\n",
      "5\n",
      "6\n"
     ]
    }
   ],
   "source": [
    "for ii in range(100):\n",
    "    if ii == 7:\n",
    "        break\n",
    "    print(ii)"
   ]
  },
  {
   "cell_type": "code",
   "execution_count": 116,
   "id": "6b684d3f-2628-498a-882e-ea3ff822763f",
   "metadata": {},
   "outputs": [
    {
     "name": "stdout",
     "output_type": "stream",
     "text": [
      "567 no es número primo porque al menos es divisible por 3\n",
      "568 no es número primo porque al menos es divisible por 2\n",
      "570 no es número primo porque al menos es divisible por 2\n",
      "572 no es número primo porque al menos es divisible por 2\n",
      "573 no es número primo porque al menos es divisible por 3\n",
      "574 no es número primo porque al menos es divisible por 2\n"
     ]
    }
   ],
   "source": [
    "for ii in range(567, 575):\n",
    "    for jj in range(2, ii):\n",
    "        if ii % jj == 0:\n",
    "            print (ii, 'no es número primo porque al menos es divisible por', jj)\n",
    "            break"
   ]
  },
  {
   "cell_type": "code",
   "execution_count": 117,
   "id": "bfa3c2ff-761b-40cf-855c-4f214d4c5a6b",
   "metadata": {},
   "outputs": [
    {
     "name": "stdout",
     "output_type": "stream",
     "text": [
      "1 es número impar\n",
      "2 es número par\n",
      "3 es número impar\n",
      "4 es número par\n",
      "5 es número impar\n",
      "6 es número par\n",
      "7 es número impar\n",
      "8 es número par\n",
      "9 es número impar\n"
     ]
    }
   ],
   "source": [
    "for ii in range(1, 10):\n",
    "    if ii % 2 == 0:\n",
    "        print(ii, 'es número par')\n",
    "        continue\n",
    "    print(ii,'es número impar')"
   ]
  },
  {
   "cell_type": "code",
   "execution_count": 118,
   "id": "8c7f2d50-7d41-474d-be5e-ce6d43281cfa",
   "metadata": {},
   "outputs": [
    {
     "name": "stdout",
     "output_type": "stream",
     "text": [
      "567 no es número primo\n",
      "568 no es número primo\n",
      "569 es número primo\n",
      "570 no es número primo\n",
      "571 es número primo\n",
      "572 no es número primo\n",
      "573 no es número primo\n",
      "574 no es número primo\n"
     ]
    }
   ],
   "source": [
    "for ii in range(567, 575):\n",
    "    for jj in range(2, ii):\n",
    "        if ii % jj == 0:\n",
    "            print (ii, 'no es número primo')\n",
    "            break\n",
    "    else:\n",
    "        print (ii, 'es número primo')"
   ]
  },
  {
   "cell_type": "markdown",
   "id": "c15c5a55-84f3-4f10-a7ab-65cd06df6452",
   "metadata": {},
   "source": [
    "## Funciones y argumentos de entrada"
   ]
  },
  {
   "cell_type": "markdown",
   "id": "5709ddfa-1d94-4d37-bcf2-f81c28bdb625",
   "metadata": {},
   "source": [
    "Hemos visto que los métodos son funciones asociadas a un objeto. Pero también podemos definir funciones que trabajen independientemente, solitas:"
   ]
  },
  {
   "cell_type": "code",
   "execution_count": 119,
   "id": "378e9ecc-c761-42f6-b825-1cc47ee2f9b0",
   "metadata": {},
   "outputs": [],
   "source": [
    "def area_círculo(radio):\n",
    "    pi = 3.14159265359\n",
    "    area = pi*radio**2\n",
    "    return area"
   ]
  },
  {
   "cell_type": "code",
   "execution_count": 120,
   "id": "3d95ecee-7aad-4783-8361-4b42e20340d3",
   "metadata": {},
   "outputs": [
    {
     "name": "stdout",
     "output_type": "stream",
     "text": [
      "19.6349540849375\n"
     ]
    }
   ],
   "source": [
    "mi_area = area_círculo(radio=2.5)\n",
    "print(mi_area)"
   ]
  },
  {
   "cell_type": "markdown",
   "id": "4dce9448-07d7-4cf5-9f64-57f1fdd7f123",
   "metadata": {},
   "source": [
    "Esta función tiene un único argumento de entrada: `radio`. Podríamos hacer una función con más de un argumento de entrada:"
   ]
  },
  {
   "cell_type": "code",
   "execution_count": 121,
   "id": "4a35a31b-35ee-4ac8-83b5-c16eca08d567",
   "metadata": {},
   "outputs": [],
   "source": [
    "def area_triangulo(base, altura):\n",
    "    \n",
    "    return 0.5*base*altura"
   ]
  },
  {
   "cell_type": "code",
   "execution_count": 122,
   "id": "6dc08ac9-094a-496a-87ea-4d819eef8560",
   "metadata": {},
   "outputs": [
    {
     "data": {
      "text/plain": [
       "6.0"
      ]
     },
     "execution_count": 122,
     "metadata": {},
     "output_type": "execute_result"
    }
   ],
   "source": [
    "area_triangulo(3.0, 4.0)"
   ]
  },
  {
   "cell_type": "markdown",
   "id": "657f6621-4688-4552-8ab1-285b1114952c",
   "metadata": {},
   "source": [
    "Los dos argumentos de la función, tal y como fueron definidos, se dicen posicionales. La función reconoce que el primero es la `base` y el segundo la `altura`. Podemos convertirlos en argumentos \"nominales\" si les damos además un valor por defecto:"
   ]
  },
  {
   "cell_type": "code",
   "execution_count": 123,
   "id": "c7189ad5-dde9-4796-a63e-89819263b5d4",
   "metadata": {},
   "outputs": [],
   "source": [
    "def area_triangulo(base=1.0, altura=1.0):\n",
    "    \n",
    "    return 0.5*base*altura"
   ]
  },
  {
   "cell_type": "markdown",
   "id": "54489615-6617-42c2-9f52-bab8ab103307",
   "metadata": {},
   "source": [
    "Ahora podemos invocar la función sin darle todos los argumentos de entrada porque hemos definido para ellos valores por defecto:"
   ]
  },
  {
   "cell_type": "code",
   "execution_count": 124,
   "id": "31df58ca-ff73-4f8f-ad5a-c60a19c4fe1c",
   "metadata": {},
   "outputs": [
    {
     "data": {
      "text/plain": [
       "0.5"
      ]
     },
     "execution_count": 124,
     "metadata": {},
     "output_type": "execute_result"
    }
   ],
   "source": [
    "area_triangulo()"
   ]
  },
  {
   "cell_type": "code",
   "execution_count": 125,
   "id": "c5cc1794-261e-497d-ae50-39b923a6fb77",
   "metadata": {},
   "outputs": [
    {
     "data": {
      "text/plain": [
       "1.0"
      ]
     },
     "execution_count": 125,
     "metadata": {},
     "output_type": "execute_result"
    }
   ],
   "source": [
    "area_triangulo(altura=2.0)"
   ]
  },
  {
   "cell_type": "markdown",
   "id": "49511306-8c89-4040-a60f-5d2008182317",
   "metadata": {},
   "source": [
    "Y podemos dar los argumentos de entrada en cualquier orden haciendo uso de sus nombres:"
   ]
  },
  {
   "cell_type": "code",
   "execution_count": 126,
   "id": "41136b87-f405-482a-b5e9-d8d90f27bdee",
   "metadata": {},
   "outputs": [
    {
     "data": {
      "text/plain": [
       "500.0"
      ]
     },
     "execution_count": 126,
     "metadata": {},
     "output_type": "execute_result"
    }
   ],
   "source": [
    "area_triangulo(altura=10.0, base=100.0)"
   ]
  },
  {
   "cell_type": "markdown",
   "id": "144753ae-128f-4645-9b18-480927b2ed05",
   "metadata": {},
   "source": [
    "Por último, podemos definir argumentos \"posicionales\" y \"nominales\" pero siempre los posicionales deben ir antes que los nominales:"
   ]
  },
  {
   "cell_type": "code",
   "execution_count": 127,
   "id": "ab21bd68-5a3f-460b-9fbe-b4fc69cd79fa",
   "metadata": {},
   "outputs": [],
   "source": [
    "def area_triangulo(base, altura=3.0):\n",
    "    \n",
    "    return 0.5*base*altura"
   ]
  },
  {
   "cell_type": "code",
   "execution_count": 128,
   "id": "62db16c7-510c-48b1-b62e-4f08a39f5482",
   "metadata": {},
   "outputs": [
    {
     "data": {
      "text/plain": [
       "1.5"
      ]
     },
     "execution_count": 128,
     "metadata": {},
     "output_type": "execute_result"
    }
   ],
   "source": [
    "area_triangulo(1.0)"
   ]
  },
  {
   "cell_type": "markdown",
   "id": "01cea779-bee5-481d-8209-46b6fadd1cb7",
   "metadata": {},
   "source": [
    "## Tu primer script\n",
    "\n",
    "Vamos a terminar esta sesión con algo distinto a mostrar cómo funciona la sintaxis de Python. Vas a hacer tu primer script!\n",
    "\n",
    "Escribe en un fichero de texto la siguiente linea:\n",
    "\n",
    "```python\n",
    "print('Hola mundo!')\n",
    "```\n",
    "\n",
    "Vamos a suponer que hemos llamado a ese fichero con el nombre `mi_script.py`. Ya lo puedes ejecutar haciendo uso del interpretador Python de tu computadora! En el caso de que estés usando un sistema operativo macOS o una distribución Linux, sólo tienes que ejecutar en la terminal:\n",
    "\n",
    "```bash\n",
    "python mi_script.py\n",
    "```"
   ]
  }
 ],
 "metadata": {
  "kernelspec": {
   "display_name": "Python 3 (ipykernel)",
   "language": "python",
   "name": "python3"
  },
  "language_info": {
   "codemirror_mode": {
    "name": "ipython",
    "version": 3
   },
   "file_extension": ".py",
   "mimetype": "text/x-python",
   "name": "python",
   "nbconvert_exporter": "python",
   "pygments_lexer": "ipython3",
   "version": "3.10.11"
  }
 },
 "nbformat": 4,
 "nbformat_minor": 5
}
