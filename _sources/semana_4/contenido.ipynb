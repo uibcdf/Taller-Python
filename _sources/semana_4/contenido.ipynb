{
 "cells": [
  {
   "cell_type": "markdown",
   "id": "d3a05d7f-3ddc-4159-8ff8-56d7bfe0c46c",
   "metadata": {},
   "source": [
    "# Contenido\n",
    "\n",
    "<center>\n",
    "<img src=\"https://fabienmaussion.info/acinn_python_workshop/figures/xkcd_learning_curve_wa.png\" width=\"600\">\n",
    "</center>\n",
    "\n",
    "Los siguientes contenidos serán presentados en [una sesión de videoconferencia](sesion.md).\n",
    "Puedes encontrar en [este enlace](slides/slides.pdf) las slides usadas como soporte."
   ]
  },
  {
   "cell_type": "markdown",
   "id": "9ac732b4-fb69-42a5-8235-4930796c5221",
   "metadata": {},
   "source": [
    "## Clases"
   ]
  },
  {
   "cell_type": "markdown",
   "id": "7a696b42-4a86-416e-94bf-9f56f9c0d116",
   "metadata": {},
   "source": [
    "### Atributos y Métodos\n",
    "\n",
    "Algo que sí distingue a Python (y a otros) de Fortran o C es que son [lenguajes orientados a objetos](https://es.wikipedia.org/wiki/Programaci%C3%B3n_orientada_a_objetos). [El uso de objetos hace que un lenguage resulte más intuitivo para el programador amateur](https://www.desarrolloweb.com/articulos/499.php). Además los objetos pueden contener tener otros objetos como atributos y métodos. Esto simplifica mucho la organización de la información y hace de Python un lenguage compacto y sencillo. Debes de comenzar a apreciar la simplicidad como principio que guíe tus lineas de código, joven padawan. Ya estás preparado para instruirte en los [principios Zen de python](https://www.python.org/dev/peps/pep-0020/).\n",
    "\n",
    "Ya podemos ver, por ejemplo, que los objetos presentados en secciones anteriores no son simples variables definidas como la combinación de un 'nombre de variable' y 'valor de variable', sino que tienen asociados atributos (características almacenadas en forma de objetos) y métodos (funciones). Para ver qué cosas tiene un objeto podemos emplear método `dir`."
   ]
  },
  {
   "cell_type": "code",
   "execution_count": 1,
   "id": "3947de32-f8fa-4f2b-be1f-cd3ba6b9b5d9",
   "metadata": {
    "tags": []
   },
   "outputs": [],
   "source": [
    "palabra = 'otorrinolaringólogo'"
   ]
  },
  {
   "cell_type": "code",
   "execution_count": 2,
   "id": "d4252955-e7a0-449f-9d41-992e39d95898",
   "metadata": {
    "tags": []
   },
   "outputs": [
    {
     "data": {
      "text/plain": [
       "['__add__',\n",
       " '__class__',\n",
       " '__contains__',\n",
       " '__delattr__',\n",
       " '__dir__',\n",
       " '__doc__',\n",
       " '__eq__',\n",
       " '__format__',\n",
       " '__ge__',\n",
       " '__getattribute__',\n",
       " '__getitem__',\n",
       " '__getnewargs__',\n",
       " '__gt__',\n",
       " '__hash__',\n",
       " '__init__',\n",
       " '__init_subclass__',\n",
       " '__iter__',\n",
       " '__le__',\n",
       " '__len__',\n",
       " '__lt__',\n",
       " '__mod__',\n",
       " '__mul__',\n",
       " '__ne__',\n",
       " '__new__',\n",
       " '__reduce__',\n",
       " '__reduce_ex__',\n",
       " '__repr__',\n",
       " '__rmod__',\n",
       " '__rmul__',\n",
       " '__setattr__',\n",
       " '__sizeof__',\n",
       " '__str__',\n",
       " '__subclasshook__',\n",
       " 'capitalize',\n",
       " 'casefold',\n",
       " 'center',\n",
       " 'count',\n",
       " 'encode',\n",
       " 'endswith',\n",
       " 'expandtabs',\n",
       " 'find',\n",
       " 'format',\n",
       " 'format_map',\n",
       " 'index',\n",
       " 'isalnum',\n",
       " 'isalpha',\n",
       " 'isascii',\n",
       " 'isdecimal',\n",
       " 'isdigit',\n",
       " 'isidentifier',\n",
       " 'islower',\n",
       " 'isnumeric',\n",
       " 'isprintable',\n",
       " 'isspace',\n",
       " 'istitle',\n",
       " 'isupper',\n",
       " 'join',\n",
       " 'ljust',\n",
       " 'lower',\n",
       " 'lstrip',\n",
       " 'maketrans',\n",
       " 'partition',\n",
       " 'removeprefix',\n",
       " 'removesuffix',\n",
       " 'replace',\n",
       " 'rfind',\n",
       " 'rindex',\n",
       " 'rjust',\n",
       " 'rpartition',\n",
       " 'rsplit',\n",
       " 'rstrip',\n",
       " 'split',\n",
       " 'splitlines',\n",
       " 'startswith',\n",
       " 'strip',\n",
       " 'swapcase',\n",
       " 'title',\n",
       " 'translate',\n",
       " 'upper',\n",
       " 'zfill']"
      ]
     },
     "execution_count": 2,
     "metadata": {},
     "output_type": "execute_result"
    }
   ],
   "source": [
    "dir(palabra)"
   ]
  },
  {
   "cell_type": "markdown",
   "id": "dc49d25d-e4b1-43ff-86e3-68bfbdca7b45",
   "metadata": {},
   "source": [
    "Esa lista que arroja el método `dir` es el conjunto de métodos y atributos que la variable palabra, como objeto de clase 'cadena de caracteres (str)', contiene. Aquellos elementos de la lista que comienzan y terminan con dos guiones bajos, '__', son elementos de utilidad interna y privada para Python (no fueron implementados apriori como funcionalidad para el usuario). Si, pero te estarás diciendo: \"qué son esos elementos???\". Todos estos elementos almacenan información (atributos) o funciones (métodos) que cuelgan del objeto 'palabra' y a los cuales puedes acceder mediante el uso de un punto '.':"
   ]
  },
  {
   "cell_type": "code",
   "execution_count": 3,
   "id": "798b723f-5fc4-4cf0-94da-5979009db1aa",
   "metadata": {
    "tags": []
   },
   "outputs": [
    {
     "data": {
      "text/plain": [
       "str"
      ]
     },
     "execution_count": 3,
     "metadata": {},
     "output_type": "execute_result"
    }
   ],
   "source": [
    "# El atributo __class__ está presente en todos los objetos y almacena el nombre del tipo de la variable:\n",
    "palabra.__class__"
   ]
  },
  {
   "cell_type": "code",
   "execution_count": 4,
   "id": "030a9717-e3da-4c51-9f6a-e58c0ee67e11",
   "metadata": {
    "tags": []
   },
   "outputs": [
    {
     "data": {
      "text/plain": [
       "92"
      ]
     },
     "execution_count": 4,
     "metadata": {},
     "output_type": "execute_result"
    }
   ],
   "source": [
    "# El método __sizeof__() está también presente en todos los objetos y calcula su tamaño en memoria\n",
    "palabra.__sizeof__()"
   ]
  },
  {
   "cell_type": "markdown",
   "id": "7668b818-dde2-4256-8301-b6a6e4b57395",
   "metadata": {},
   "source": [
    "Habrás adivinado gracias a estas dos últimas celdas cúal es la diferencia invocando atributos o métodos. Un método necesita invocarse con paréntesis ya que es una función que podría tener argumentos de entrada -veremos esto más adelante-.\n",
    "\n",
    "También en este punto te preguntarás, pero y cómo sabes qué hace y es cada cosa? Fácilmente:\n",
    "\n",
    "1. La documentación de Python y sus librerías siempre es muy útil: [web oficial de Python 3 en su sección sobre tipos str](https://docs.python.org/3/library/stdtypes.html#str)   \n",
    "2. La comunidad de usuarios y el número de foros es enorme. Segúramente alguien ya se preguntó lo mismo que tu y otro le contestó: [búsqueda en google](https://www.google.com.mx/search?q=%C2%BFQu%C3%A9+metodos+de+un+objeto+str+en+python%3F&)\n",
    "3. El método `help` resulta de mucha ayuda\n",
    "\n",
    "Para ilustrar como funciona `help` y sin salir del notebook puedes ver qué documentación se esconde por ejemplo detrás de los siguientes elementos de la lista anterior de atributos y métodos: `__sizeof__`, `endswith` y `capitalize`."
   ]
  },
  {
   "cell_type": "code",
   "execution_count": 5,
   "id": "d4819735-87f1-44e0-b616-2191513a2e2d",
   "metadata": {
    "tags": []
   },
   "outputs": [
    {
     "name": "stdout",
     "output_type": "stream",
     "text": [
      "Help on built-in function __sizeof__:\n",
      "\n",
      "__sizeof__() method of builtins.str instance\n",
      "    Return the size of the string in memory, in bytes.\n",
      "\n"
     ]
    }
   ],
   "source": [
    "help(palabra.__sizeof__)"
   ]
  },
  {
   "cell_type": "code",
   "execution_count": 6,
   "id": "77282a9d-a807-4c87-945d-a81bb1a3a74b",
   "metadata": {
    "tags": []
   },
   "outputs": [
    {
     "name": "stdout",
     "output_type": "stream",
     "text": [
      "Help on built-in function endswith:\n",
      "\n",
      "endswith(...) method of builtins.str instance\n",
      "    S.endswith(suffix[, start[, end]]) -> bool\n",
      "    \n",
      "    Return True if S ends with the specified suffix, False otherwise.\n",
      "    With optional start, test S beginning at that position.\n",
      "    With optional end, stop comparing S at that position.\n",
      "    suffix can also be a tuple of strings to try.\n",
      "\n"
     ]
    }
   ],
   "source": [
    "help(palabra.endswith)"
   ]
  },
  {
   "cell_type": "code",
   "execution_count": 7,
   "id": "567dc829-77ea-479b-bace-9124579739a2",
   "metadata": {
    "tags": []
   },
   "outputs": [
    {
     "name": "stdout",
     "output_type": "stream",
     "text": [
      "Help on built-in function capitalize:\n",
      "\n",
      "capitalize() method of builtins.str instance\n",
      "    Return a capitalized version of the string.\n",
      "    \n",
      "    More specifically, make the first character have upper case and the rest lower\n",
      "    case.\n",
      "\n"
     ]
    }
   ],
   "source": [
    "help(palabra.capitalize)"
   ]
  },
  {
   "cell_type": "markdown",
   "id": "1eecf959-8f5c-403a-81c6-1720fa331b85",
   "metadata": {},
   "source": [
    "Vemos por ejemplo que `endswith` es un método que tiene argumentos de entrada, un sufijo en este caso, y devuelve el valor Verdadero (True) si el valor de la variable cadena de caracteres termina con ese sufijo y Falso (False) si no."
   ]
  },
  {
   "cell_type": "code",
   "execution_count": 8,
   "id": "6c31f9bc-34c9-4670-b268-f9658c2bbff7",
   "metadata": {
    "tags": []
   },
   "outputs": [
    {
     "data": {
      "text/plain": [
       "True"
      ]
     },
     "execution_count": 8,
     "metadata": {},
     "output_type": "execute_result"
    }
   ],
   "source": [
    "palabra.endswith('logo')"
   ]
  },
  {
   "cell_type": "code",
   "execution_count": 9,
   "id": "c7a6c708-cfa7-46c2-a75a-e974836f0336",
   "metadata": {
    "tags": []
   },
   "outputs": [
    {
     "data": {
      "text/plain": [
       "False"
      ]
     },
     "execution_count": 9,
     "metadata": {},
     "output_type": "execute_result"
    }
   ],
   "source": [
    "palabra.endswith('ble')"
   ]
  },
  {
   "cell_type": "markdown",
   "id": "583ba045-5a21-4dbb-98b3-617a91ab1cba",
   "metadata": {},
   "source": [
    "O que el método `capitalize` no tiene argumentos de entrada y devuelve la cadena con el primer caracter en mayúscula y el resto en minúsculas."
   ]
  },
  {
   "cell_type": "code",
   "execution_count": 10,
   "id": "32dff83b-7c15-417a-8295-2bb60c20016d",
   "metadata": {
    "tags": []
   },
   "outputs": [
    {
     "name": "stdout",
     "output_type": "stream",
     "text": [
      "otorrinolaringólogo\n",
      "Otorrinolaringólogo\n"
     ]
    }
   ],
   "source": [
    "print(palabra)\n",
    "print(palabra.capitalize())"
   ]
  },
  {
   "cell_type": "markdown",
   "id": "c5ef4e43-04d4-4960-b20a-3e8b50aa5872",
   "metadata": {},
   "source": [
    "Por último podemos añadir que en este punto del notebook ya hemos visto que existen métodos propios de Python y ajenos a cualquier objeto como `dir`, `print`, `help` o `len`:"
   ]
  },
  {
   "cell_type": "code",
   "execution_count": 11,
   "id": "ee0f2544-fd84-416c-b20b-f92a01d9d8f8",
   "metadata": {
    "tags": []
   },
   "outputs": [
    {
     "name": "stdout",
     "output_type": "stream",
     "text": [
      "Otorrinolaringólogo tiene 19 letras\n"
     ]
    }
   ],
   "source": [
    "print(palabra.capitalize(),'tiene',len(palabra),'letras')"
   ]
  },
  {
   "cell_type": "markdown",
   "id": "22c5a04e-eb9d-4b53-b410-ca84b8e2d800",
   "metadata": {},
   "source": [
    "Las listas, las tuplas, los diccionarios... también tienen sus propios atributos y métodos. Por ejemplo, tomando el objeto de la sección anterior `un_diccionario`:"
   ]
  },
  {
   "cell_type": "code",
   "execution_count": 13,
   "id": "35940f17-f869-4255-9b2e-f651b200400f",
   "metadata": {
    "tags": []
   },
   "outputs": [],
   "source": [
    "un_diccionario = {'hello': 'hola', 'apple': 'manzana', 'house': 'casa'}"
   ]
  },
  {
   "cell_type": "code",
   "execution_count": 14,
   "id": "d455d8a1-3c46-4455-8427-22b96880f768",
   "metadata": {
    "tags": []
   },
   "outputs": [
    {
     "data": {
      "text/plain": [
       "dict_keys(['hello', 'apple', 'house'])"
      ]
     },
     "execution_count": 14,
     "metadata": {},
     "output_type": "execute_result"
    }
   ],
   "source": [
    "un_diccionario.keys() # Este método da la lista de claves"
   ]
  },
  {
   "cell_type": "code",
   "execution_count": 15,
   "id": "f7e6afbf-9899-4cfa-8282-921e8e6be3c2",
   "metadata": {
    "tags": []
   },
   "outputs": [
    {
     "data": {
      "text/plain": [
       "dict_keys(['hello', 'apple', 'house'])"
      ]
     },
     "execution_count": 15,
     "metadata": {},
     "output_type": "execute_result"
    }
   ],
   "source": [
    "un_diccionario.keys() # Este método da la lista de claves"
   ]
  },
  {
   "cell_type": "code",
   "execution_count": 16,
   "id": "f7a8e6ca-184c-42a3-90c1-9e53af2023a1",
   "metadata": {
    "tags": []
   },
   "outputs": [
    {
     "data": {
      "text/plain": [
       "'casa'"
      ]
     },
     "execution_count": 16,
     "metadata": {},
     "output_type": "execute_result"
    }
   ],
   "source": [
    "un_diccionario.pop('house') # Este método saca un item del diccionario"
   ]
  },
  {
   "cell_type": "code",
   "execution_count": 17,
   "id": "640507bb-2ee4-4b5e-b57c-81c13cec5a37",
   "metadata": {
    "tags": []
   },
   "outputs": [
    {
     "data": {
      "text/plain": [
       "{'hello': 'hola', 'apple': 'manzana'}"
      ]
     },
     "execution_count": 17,
     "metadata": {},
     "output_type": "execute_result"
    }
   ],
   "source": [
    "un_diccionario"
   ]
  },
  {
   "cell_type": "markdown",
   "id": "d0d53c48-a9d2-489c-9db8-879fb43b0e89",
   "metadata": {},
   "source": [
    "## ¿Podemos definir nuestra propia clase de objetos con métodos y atributos?\n",
    "\n",
    "Para consolidar la [comprensión en la diferencia entre métodos y atributos, y entender la trascendencia de poder definir \"clases de objetos\"](https://www.desarrolloweb.com/articulos/499.php) veamos cómo podemos definir nuestra propia clase.\n",
    "\n",
    "Una clase es la plantilla de un objeto. Las clases se definen con métodos y atributos, propios de esa clase (valga la redundancia). Y son realmente útiles.\n",
    "\n",
    "Supongamos que defino la clase `átomo`. Átomos puede haber de muchos: de naturaleza distinta, con distinta carga, radio de Van der Waals, peso atómico... pero todos tienen esas propiedades que puedo definir como atributos comunes en la plantilla que representa la clase `átomo`."
   ]
  },
  {
   "cell_type": "code",
   "execution_count": 18,
   "id": "43b04f73-8ffa-4ec1-837c-8f19b660654d",
   "metadata": {
    "tags": []
   },
   "outputs": [],
   "source": [
    "class átomo():\n",
    "    def __init__(self):\n",
    "        self.tipo  = None\n",
    "        self.radio = None\n",
    "        self.carga = None"
   ]
  },
  {
   "cell_type": "markdown",
   "id": "c1fd09e4-2fb6-4baa-b52e-bd8a32964744",
   "metadata": {},
   "source": [
    "Hemos comenzado definiendo los tres atributos de `átomo` (tipo, radio y carga) con valor `None`. Algo todavía poco útil, pero ya podemos crear átomos haciendo uso de `átomo` como plantilla:"
   ]
  },
  {
   "cell_type": "code",
   "execution_count": 19,
   "id": "1d3c0728-7d42-4b9a-806d-855c13be2aaa",
   "metadata": {
    "tags": []
   },
   "outputs": [],
   "source": [
    "at1 = átomo()\n",
    "at2 = átomo()\n",
    "at3 = átomo()"
   ]
  },
  {
   "cell_type": "code",
   "execution_count": 20,
   "id": "dcf9d5fc-078d-4a2f-acbe-d0f49dad10cd",
   "metadata": {
    "tags": []
   },
   "outputs": [
    {
     "data": {
      "text/plain": [
       "__main__.átomo"
      ]
     },
     "execution_count": 20,
     "metadata": {},
     "output_type": "execute_result"
    }
   ],
   "source": [
    "type(at1)"
   ]
  },
  {
   "cell_type": "code",
   "execution_count": 21,
   "id": "fad56d1a-4174-4794-9580-d14b0126264a",
   "metadata": {
    "tags": []
   },
   "outputs": [
    {
     "name": "stdout",
     "output_type": "stream",
     "text": [
      "None\n",
      "None\n",
      "None\n"
     ]
    }
   ],
   "source": [
    "print(at1.tipo)\n",
    "print(at2.radio)\n",
    "print(at3.carga)"
   ]
  },
  {
   "cell_type": "markdown",
   "id": "63232a1f-4376-44bd-8f0c-da59ba6f9389",
   "metadata": {},
   "source": [
    "Hagamos ahora algo más útil. Vamos a generar la clase `átomo` con un argumento de entrada que será el `tipo` de átomo. Y el resto de atributos, `radio` y `carga`, serán adjudicados al inicializar un objeto de clase `átomo` dependiendo de su tipo:"
   ]
  },
  {
   "cell_type": "code",
   "execution_count": 22,
   "id": "f7d0f078-2944-4273-9f1c-a230cef078f0",
   "metadata": {
    "tags": []
   },
   "outputs": [],
   "source": [
    "class átomo():\n",
    "    def __init__(self, tipo = None):\n",
    "        \n",
    "        self.tipo  = tipo\n",
    "        self.radio = None\n",
    "        self.carga = None\n",
    "        \n",
    "        if tipo == 'A':\n",
    "            self.radio = 2.5\n",
    "            self.carga = 1\n",
    "        \n",
    "        if tipo == 'B':\n",
    "            self.radio = 4.0\n",
    "            self.carga = -2"
   ]
  },
  {
   "cell_type": "code",
   "execution_count": 23,
   "id": "54698339-138a-47d2-89ac-ad83e195b17d",
   "metadata": {
    "tags": []
   },
   "outputs": [],
   "source": [
    "at1 = átomo(tipo='A')\n",
    "at2 = átomo('B')"
   ]
  },
  {
   "cell_type": "code",
   "execution_count": 24,
   "id": "e7b3cb2f-ac81-40d7-8f75-21acfeb7b5d8",
   "metadata": {
    "tags": []
   },
   "outputs": [
    {
     "data": {
      "text/plain": [
       "2.5"
      ]
     },
     "execution_count": 24,
     "metadata": {},
     "output_type": "execute_result"
    }
   ],
   "source": [
    "at1.radio"
   ]
  },
  {
   "cell_type": "code",
   "execution_count": 25,
   "id": "4f7730e2-00a0-4c54-b850-8a2c0db08e86",
   "metadata": {
    "tags": []
   },
   "outputs": [
    {
     "data": {
      "text/plain": [
       "4.0"
      ]
     },
     "execution_count": 25,
     "metadata": {},
     "output_type": "execute_result"
    }
   ],
   "source": [
    "at2.radio"
   ]
  },
  {
   "cell_type": "markdown",
   "id": "c64970d3-1125-4c3c-b25c-858a5c766dec",
   "metadata": {},
   "source": [
    "Por último y para que `átomo` no sea únicamente un conjunto de atributos, incluyamos un método. Un método que sea el cálculo del volumen del átomo según su radio."
   ]
  },
  {
   "cell_type": "code",
   "execution_count": 26,
   "id": "c1b2848d-2dde-4c03-a26d-2ab15bd95f0f",
   "metadata": {
    "tags": []
   },
   "outputs": [],
   "source": [
    "class átomo():\n",
    "    def __init__(self, tipo = None):\n",
    "        \n",
    "        self.tipo  = tipo\n",
    "        self.radio = None\n",
    "        self.carga = None\n",
    "        \n",
    "        if tipo == 'A':\n",
    "            self.radio = 2.5\n",
    "            self.carga = 1\n",
    "        \n",
    "        if tipo == 'B':\n",
    "            self.radio = 4.0\n",
    "            self.carga = -2\n",
    "\n",
    "    def volumen(self):\n",
    "        pi = 3.14159265359\n",
    "        return (4.0/3.0)*pi*self.radio**3"
   ]
  },
  {
   "cell_type": "code",
   "execution_count": 27,
   "id": "6dec17d0-cadc-46a7-8e48-119f01bdd82a",
   "metadata": {
    "tags": []
   },
   "outputs": [],
   "source": [
    "at1 = átomo('A')"
   ]
  },
  {
   "cell_type": "code",
   "execution_count": 28,
   "id": "47e35287-c2ea-41c5-a8f7-5f16a1163df6",
   "metadata": {
    "tags": []
   },
   "outputs": [
    {
     "data": {
      "text/plain": [
       "2.5"
      ]
     },
     "execution_count": 28,
     "metadata": {},
     "output_type": "execute_result"
    }
   ],
   "source": [
    "at1.radio"
   ]
  },
  {
   "cell_type": "code",
   "execution_count": 29,
   "id": "95a951eb-7898-4ce0-94b8-dafb21af6282",
   "metadata": {
    "tags": []
   },
   "outputs": [
    {
     "data": {
      "text/plain": [
       "65.44984694979166"
      ]
     },
     "execution_count": 29,
     "metadata": {},
     "output_type": "execute_result"
    }
   ],
   "source": [
    "at1.volumen()"
   ]
  },
  {
   "cell_type": "code",
   "execution_count": 30,
   "id": "4e1b94e3-cc43-4244-9d24-a0869475a4d0",
   "metadata": {
    "tags": []
   },
   "outputs": [],
   "source": [
    "at1.radio = 3.0"
   ]
  },
  {
   "cell_type": "code",
   "execution_count": 31,
   "id": "b6ac882f-841a-43aa-b0dc-8bc6431bd9ba",
   "metadata": {
    "tags": []
   },
   "outputs": [
    {
     "data": {
      "text/plain": [
       "113.09733552924"
      ]
     },
     "execution_count": 31,
     "metadata": {},
     "output_type": "execute_result"
    }
   ],
   "source": [
    "at1.volumen()"
   ]
  },
  {
   "cell_type": "markdown",
   "id": "4bdb0c6c-d319-4301-9c69-76320377d90a",
   "metadata": {},
   "source": [
    "En las líneas de código empleadas para definir la clase `átomo` habrás identificado varias cosas desconocidas para ti, aunque su significado puede ser intuitivo. Es el caso de las órdenes `def` o `if`, o los términos `class` o `self`. Cómo se define una clase, en profundidad, es materia de un nivel un poco más avanzado y escapa al propósito de este notebook. Pero de la orden `if` si vamos a hablar en la sección siguiente ya que es un elemento básico y común de todo lenguaje de programación."
   ]
  },
  {
   "cell_type": "markdown",
   "id": "afedc07c-21bc-4fa8-a7ae-700a345ac8cd",
   "metadata": {},
   "source": [
    "## Módulos y librerías\n",
    "\n",
    "Por último y para concluir esta introducción a Python, es importante que comprendas qué es un módulo, qué es una librería y cómo se usan."
   ]
  },
  {
   "cell_type": "markdown",
   "id": "5a00ea29-f697-42c9-9be4-ded2b5783b1c",
   "metadata": {},
   "source": [
    "Un módulo es una pieza de código que encapsulamos en un fichero aislado porque la vamos a usar con frecuencia de manera independiente o como elemento incluido en otros programas. Para comprender esto vamos a crear y a usar nuestro propio módulo.\n",
    "\n",
    "Vamos a poner la clase `átomo`, definida anteriormente, en un fichero de texto que llamaremos `atomizador.py`."
   ]
  },
  {
   "cell_type": "code",
   "execution_count": 127,
   "id": "8443ba88-3412-426a-a713-8a113ffc77f1",
   "metadata": {},
   "outputs": [],
   "source": [
    "mi_módulo = open('atomizador.py','w')"
   ]
  },
  {
   "cell_type": "code",
   "execution_count": 128,
   "id": "e82f13b2-2581-473f-9961-7eaa5396c5db",
   "metadata": {},
   "outputs": [],
   "source": [
    "mi_código = \"\\\n",
    "class átomo():\\n \\\n",
    "\\t \\\"\\\"\\\"Clase que representa un átomo con su tipo, radio, carga y volumen.\\\"\\\"\\\"\\n \\\n",
    "\\n \\\n",
    "\\t def __init__(self, tipo = None):\\n \\\n",
    "\\n \\\n",
    "\\t \\t self.tipo  = tipo\\n \\\n",
    "\\t \\t self.radio = None\\n \\\n",
    "\\t \\t self.carga = None\\n \\\n",
    "\\n \\\n",
    "\\t \\t if tipo == 'A':\\n \\\n",
    "\\t \\t \\t self.radio = 2.5\\n \\\n",
    "\\t \\t \\t self.carga = 1\\n \\\n",
    "\\n \\\n",
    "\\t \\t if tipo == 'B':\\n \\\n",
    "\\t \\t \\t self.radio = 4.0\\n \\\n",
    "\\t \\t \\t self.carga = -2\\n \\\n",
    "\\n \\\n",
    "\\t def volumen(self):\\n \\\n",
    "\\t \\t \\\"\\\"\\\"Función de la clase átomo que calcula el volumen a partir del atributo radio.\\\"\\\"\\\"\\n \\\n",
    "\\t \\t pi = 3.14159265359\\n \\\n",
    "\\t \\t return (4.0/3.0)*pi*self.radio**3\\n \\\n",
    "\""
   ]
  },
  {
   "cell_type": "code",
   "execution_count": 129,
   "id": "02574e46-53d5-410a-bce7-2bf3678a99f9",
   "metadata": {},
   "outputs": [
    {
     "name": "stdout",
     "output_type": "stream",
     "text": [
      "class átomo():\n",
      " \t \"\"\"Clase que representa un átomo con su tipo, radio, carga y volumen.\"\"\"\n",
      " \n",
      " \t def __init__(self, tipo = None):\n",
      " \n",
      " \t \t self.tipo  = tipo\n",
      " \t \t self.radio = None\n",
      " \t \t self.carga = None\n",
      " \n",
      " \t \t if tipo == 'A':\n",
      " \t \t \t self.radio = 2.5\n",
      " \t \t \t self.carga = 1\n",
      " \n",
      " \t \t if tipo == 'B':\n",
      " \t \t \t self.radio = 4.0\n",
      " \t \t \t self.carga = -2\n",
      " \n",
      " \t def volumen(self):\n",
      " \t \t \"\"\"Función de la clase átomo que calcula el volumen a partir del atributo radio.\"\"\"\n",
      " \t \t pi = 3.14159265359\n",
      " \t \t return (4.0/3.0)*pi*self.radio**3\n",
      " \n"
     ]
    }
   ],
   "source": [
    "print(mi_código)"
   ]
  },
  {
   "cell_type": "code",
   "execution_count": 130,
   "id": "b819d09e-2d19-4208-b7db-ac8c724f59dd",
   "metadata": {},
   "outputs": [
    {
     "data": {
      "text/plain": [
       "516"
      ]
     },
     "execution_count": 130,
     "metadata": {},
     "output_type": "execute_result"
    }
   ],
   "source": [
    "mi_módulo.write(mi_código)"
   ]
  },
  {
   "cell_type": "code",
   "execution_count": 131,
   "id": "606725d5-0ca8-427a-be05-73977c5b3414",
   "metadata": {},
   "outputs": [],
   "source": [
    "mi_módulo.close()"
   ]
  },
  {
   "cell_type": "code",
   "execution_count": 132,
   "id": "9df04f40-4ea9-49fb-86a2-fb262e8109de",
   "metadata": {},
   "outputs": [],
   "source": [
    "del(mi_módulo, mi_código)"
   ]
  },
  {
   "cell_type": "markdown",
   "id": "83670db1-ff1c-477d-a0f4-60340609cfb0",
   "metadata": {},
   "source": [
    "Puedes ver en el navegador de ficheros que existe 'atomizador.py'. Puedes abrirlo en Jupyter Lab, o salir a una terminal o a tu navegador de ficheros del sistema operativo, y ver su contenido. En este punto debes estar pensando que quizá hubiera sido más facil crear este fichero fuera del notebook, haciendo uso de tu editor de texto habitual. Estás en lo cierto, lo hemos creado en el notebook \n",
    "únicamente como ejemplo adicional de escritura de ficheros.\n",
    "\n",
    "Bien, ya tenemos el fichero 'atomizador.py' con un bloque de código. Lo podemos llamar módulo porque la estrategia de trabajo que estamos adoptando es **modular**. Ponemos código perfectamente funcional y documentado en módulos que podrán ser usados como bloques de construcción reusables, como si fueran los ladrillos de un muro que pudieras emplear para hacer estructuras más grandes. Cuando además un conjunto de módulos, están organizados en una misma carpeta con una cierta estructura que les da entidad de grupo, hablamos de librería.\n",
    "\n",
    "Un módulo, o librería, se puede 'cargar' en cualquier momento con la orden `import`."
   ]
  },
  {
   "cell_type": "code",
   "execution_count": 133,
   "id": "b0a23376-46e5-4752-a496-baf10cb3be4a",
   "metadata": {},
   "outputs": [],
   "source": [
    "import atomizador "
   ]
  },
  {
   "cell_type": "code",
   "execution_count": 134,
   "id": "980975e8-5155-48a6-93d5-3c693d11ae0e",
   "metadata": {},
   "outputs": [
    {
     "data": {
      "text/plain": [
       "['__builtins__',\n",
       " '__cached__',\n",
       " '__doc__',\n",
       " '__file__',\n",
       " '__loader__',\n",
       " '__name__',\n",
       " '__package__',\n",
       " '__spec__',\n",
       " 'átomo']"
      ]
     },
     "execution_count": 134,
     "metadata": {},
     "output_type": "execute_result"
    }
   ],
   "source": [
    "dir(atomizador)"
   ]
  },
  {
   "cell_type": "markdown",
   "id": "d14b0fcc-3d11-4300-90ea-b7fd53b0cc47",
   "metadata": {},
   "source": [
    "Probablemente hayas advertido que en la definición de la clase `átomo` hemos incluido un par de lineas con texto entre triples comillas dobles. Así: `\"\"\"texto\"\"\"`. Mira para lo que sirvieron:"
   ]
  },
  {
   "cell_type": "code",
   "execution_count": 135,
   "id": "c1024621-0e7c-4fa9-8ef5-62f92851d1c0",
   "metadata": {},
   "outputs": [
    {
     "name": "stdout",
     "output_type": "stream",
     "text": [
      "Help on class átomo in module atomizador:\n",
      "\n",
      "class átomo(builtins.object)\n",
      " |  átomo(tipo=None)\n",
      " |  \n",
      " |  Clase que representa un átomo con su tipo, radio, carga y volumen.\n",
      " |  \n",
      " |  Methods defined here:\n",
      " |  \n",
      " |  __init__(self, tipo=None)\n",
      " |      Initialize self.  See help(type(self)) for accurate signature.\n",
      " |  \n",
      " |  volumen(self)\n",
      " |      Función de la clase átomo que calcula el volumen a partir del atributo radio.\n",
      " |  \n",
      " |  ----------------------------------------------------------------------\n",
      " |  Data descriptors defined here:\n",
      " |  \n",
      " |  __dict__\n",
      " |      dictionary for instance variables (if defined)\n",
      " |  \n",
      " |  __weakref__\n",
      " |      list of weak references to the object (if defined)\n",
      "\n"
     ]
    }
   ],
   "source": [
    "help(atomizador.átomo)"
   ]
  },
  {
   "cell_type": "code",
   "execution_count": 136,
   "id": "994906dc-20bc-40c6-a331-89a7e103212e",
   "metadata": {},
   "outputs": [
    {
     "name": "stdout",
     "output_type": "stream",
     "text": [
      "Help on function volumen in module atomizador:\n",
      "\n",
      "volumen(self)\n",
      "    Función de la clase átomo que calcula el volumen a partir del atributo radio.\n",
      "\n"
     ]
    }
   ],
   "source": [
    "help(atomizador.átomo.volumen)"
   ]
  },
  {
   "cell_type": "markdown",
   "id": "e2ffe97c-e7c9-44ac-ac2e-5dc7422bac6d",
   "metadata": {},
   "source": [
    "Ahora vamos a usar el módulo `atomizador`para concluir el ejemplo:"
   ]
  },
  {
   "cell_type": "code",
   "execution_count": 137,
   "id": "ad12cc99-e900-4a94-bfcc-02c8faf5b13f",
   "metadata": {},
   "outputs": [],
   "source": [
    "átomo1 = atomizador.átomo('A')"
   ]
  },
  {
   "cell_type": "code",
   "execution_count": 138,
   "id": "407f1fd0-9360-4dd7-9e6b-cbcca61e25c4",
   "metadata": {},
   "outputs": [
    {
     "name": "stdout",
     "output_type": "stream",
     "text": [
      "65.44984694979166\n"
     ]
    }
   ],
   "source": [
    "print(átomo1.volumen())"
   ]
  },
  {
   "cell_type": "code",
   "execution_count": 139,
   "id": "b3719f89-9fb7-48b9-9961-5829edfc4c58",
   "metadata": {},
   "outputs": [],
   "source": [
    "del(atomizador, átomo1)"
   ]
  },
  {
   "cell_type": "markdown",
   "id": "9b5e9d04-6024-45bc-a348-ae515faa9bb6",
   "metadata": {},
   "source": [
    "Acabamos de borrar los objetos `atomizador` y `átomo` para poder continuar de manera limpia.\n",
    "Veamos ahora que podemos también importar un módulo, o librería, 'cargándolo' con un alias."
   ]
  },
  {
   "cell_type": "code",
   "execution_count": 140,
   "id": "a30013f9-8e7a-4701-a58e-774936323a0b",
   "metadata": {},
   "outputs": [],
   "source": [
    "import atomizador as creador_de_átomos_marca_ACME"
   ]
  },
  {
   "cell_type": "code",
   "execution_count": 141,
   "id": "fa726155-0dce-46ee-848d-3d5ba58e437d",
   "metadata": {},
   "outputs": [
    {
     "name": "stdout",
     "output_type": "stream",
     "text": [
      "65.44984694979166\n"
     ]
    }
   ],
   "source": [
    "átomo1 = creador_de_átomos_marca_ACME.átomo('A')\n",
    "print(átomo1.volumen())"
   ]
  },
  {
   "cell_type": "code",
   "execution_count": 142,
   "id": "effb2c00-1cb1-42d8-8bd6-7d9ff9c59fdd",
   "metadata": {},
   "outputs": [],
   "source": [
    "del(átomo1, creador_de_átomos_marca_ACME)"
   ]
  },
  {
   "cell_type": "markdown",
   "id": "ea5bc699-fb61-430b-a30f-934e893ae9a4",
   "metadata": {},
   "source": [
    "O podemos importar clases, métodos u otros objetos específicos de un módulo o de una librería:"
   ]
  },
  {
   "cell_type": "code",
   "execution_count": 143,
   "id": "36991342-8175-460c-ac35-07f2baea5f99",
   "metadata": {},
   "outputs": [],
   "source": [
    "from atomizador import átomo as átomo_marca_ACME"
   ]
  },
  {
   "cell_type": "code",
   "execution_count": 144,
   "id": "e42c080d-41e6-46fc-8df1-94bf814acf6f",
   "metadata": {},
   "outputs": [
    {
     "name": "stdout",
     "output_type": "stream",
     "text": [
      "65.44984694979166\n"
     ]
    }
   ],
   "source": [
    "átomo1 = átomo_marca_ACME('A')\n",
    "print(átomo1.volumen())"
   ]
  },
  {
   "cell_type": "code",
   "execution_count": 145,
   "id": "22ce995d-17e0-44ff-a5ac-0c4c99e58e9a",
   "metadata": {},
   "outputs": [],
   "source": [
    "del(átomo)"
   ]
  },
  {
   "cell_type": "markdown",
   "id": "5fe1b959-b45b-463b-a658-77a404219546",
   "metadata": {},
   "source": [
    "Borremos por último el fichero 'atomizador.py' haciendo uso de la librería `os` como vimos anteriormente:"
   ]
  },
  {
   "cell_type": "code",
   "execution_count": 146,
   "id": "2fd0298f-8795-4867-ae26-357fd713c0ff",
   "metadata": {},
   "outputs": [],
   "source": [
    "from os import remove as borro_fichero\n",
    "borro_fichero('atomizador.py')"
   ]
  },
  {
   "cell_type": "markdown",
   "id": "f0eb7a08-eb43-4d6a-8e08-4ab1ea2daa82",
   "metadata": {},
   "source": [
    "---\n",
    "\n",
    "## Dudas, problemas técnicos y soluciones. <a class=\"anchor\" id=\"dudas\"></a>\n",
    "\n",
    "Para centralizar esas dudas técnicas sobre el tema de este notebook o proponer soluciones o sugerencias más técnicas que queremos encontrar en el futuro comentadas y visibles para todos, haz uso del siguiente canal:\n",
    "\n",
    "[Foro Técnico: Programando en Python](https://github.com/uibcdf/Academia/issues/18)\n",
    "\n",
    "## Más recursos útiles <a class=\"anchor\" id=\"recursos\"></a>\n",
    "\n",
    "El propósito de este notebook es ser un documento únicamente introductorio. Puedes encontrar -o contribuir añadiendo- más información útil en el siguiente listado:\n",
    "\n",
    "### Documentación <a class=\"anchor\" id=\"documentacion\"></a>\n",
    "\n",
    "https://www.python.org/    \n",
    "https://realpython.com/    \n",
    "https://docs.python-guide.org/    \n",
    "https://wiki.python.org/moin/SpanishLanguage    \n",
    "http://www.scipy-lectures.org/intro/intro.html\n",
    "https://fabienmaussion.info/acinn_python_workshop/\n",
    "\n",
    "### Tutoriales, Webinars y cursos gratuitos <a class=\"anchor\" id=\"tutoriales\"></a>\n",
    "https://realpython.com/start-here/  \n",
    "https://www.programiz.com/python-programming   \n",
    "http://www.openbookproject.net/books/bpp4awd/   \n",
    "http://www.openbookproject.net/books/pythonds/   \n",
    "http://www.openbookproject.net/books/pp4awdds/   \n",
    "http://openbookproject.net/thinkcs/python/english3e/   \n",
    "https://www.w3schools.com/python/   \n",
    "https://www.python.org/about/gettingstarted/   \n",
    "https://docs.python.org/3/tutorial/    \n",
    "http://docs.python.org.ar/tutorial/    \n",
    "http://swcarpentry.github.io/python-novice-inflammation/   \n",
    "https://www.datacamp.com/community/open-courses?tag=python   \n",
    "https://www.datacamp.com/community/tutorials?tag=python   \n",
    "https://realpython.com/tutorials/python/    \n",
    "https://www.learnpython.org/    \n",
    "https://www.datacamp.com/courses/intro-to-python-for-data-science    \n",
    "https://docs.python-guide.org/intro/learning/    \n",
    "https://www.codecademy.com/learn/learn-python    \n",
    "https://pythonprogramming.net/   \n",
    "http://www.scipy-lectures.org/   \n",
    "https://geekytheory.com/curso/python-3   \n",
    "https://www.learnpython.org/es/   \n",
    "https://www.learnpython.org/   \n",
    "http://www.iac.es/sieinvens/python-course/index.html\n",
    "https://github.com/damianavila/Python-Cientifico-HCC/blob/master/1_Python_Cientifico_Intro.ipynb   "
   ]
  },
  {
   "cell_type": "code",
   "execution_count": null,
   "id": "7b2f82ad-07cf-4760-9f4c-fab305b84513",
   "metadata": {},
   "outputs": [],
   "source": []
  }
 ],
 "metadata": {
  "kernelspec": {
   "display_name": "Python 3 (ipykernel)",
   "language": "python",
   "name": "python3"
  },
  "language_info": {
   "codemirror_mode": {
    "name": "ipython",
    "version": 3
   },
   "file_extension": ".py",
   "mimetype": "text/x-python",
   "name": "python",
   "nbconvert_exporter": "python",
   "pygments_lexer": "ipython3",
   "version": "3.10.11"
  }
 },
 "nbformat": 4,
 "nbformat_minor": 5
}
