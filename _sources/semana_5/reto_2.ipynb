{
 "cells": [
  {
   "cell_type": "markdown",
   "id": "ca82f0c8-438f-4df9-9c98-d791e706159d",
   "metadata": {},
   "source": [
    "# Percolation (I)"
   ]
  },
  {
   "cell_type": "markdown",
   "id": "2d567887-ec87-4367-a688-1dc734cea31e",
   "metadata": {},
   "source": [
    "Comencemos un proyecto de librería llamado \"Percolation\". El propósito de la librería irá desvelandose poco a poco.\n",
    "Por ahora comencemos con la primera función."
   ]
  },
  {
   "cell_type": "markdown",
   "id": "0b93c42f-efcb-4970-bc61-0edcfff93a30",
   "metadata": {},
   "source": [
    "## Tarea\n",
    "\n",
    "Con ayuda de la librería Numpy, realiza una función que cumpla el siguiente objetivo y requisitos:\n",
    "\n",
    "- La función tiene 3 argumentos de entrada: 'filas', 'columnas' y ocupación. Donde filas y columnas son dos números enteros positivos y ocupación un número de coma flotante en el rango [0,1].\n",
    "- La función devuelve una matriz de números enteros (un numpy.ndarray de tamaño (filas, columnas)) donde todos los valores son 0 menos una cierta cantidad $M$ de 1's. Dicha cantidad debe ser tal que $M=filas\\cdot columnas \\cdot ocupación$. Las posiciones de los elementos de la matriz que contendrán un 1 serán elegidas aleatoriamente.\n",
    "\n",
    "Implementa una segunda función para visualizar con ayuda de Matplotlib las matrices generadas por la función anterior con las siguientes condiciones:\n",
    "\n",
    "- Los elementos de la matriz 0 serán representados en color blanco.\n",
    "- Los elementos de la matriz 1 serán representados en color gris.\n",
    "- Los elementos de la matriz son representados en un mapa de color cuidando que en el eje horizontal de la gráfica estén representadas las columnas y en el eje vertical las filas."
   ]
  }
 ],
 "metadata": {
  "kernelspec": {
   "display_name": "Python 3 (ipykernel)",
   "language": "python",
   "name": "python3"
  },
  "language_info": {
   "codemirror_mode": {
    "name": "ipython",
    "version": 3
   },
   "file_extension": ".py",
   "mimetype": "text/x-python",
   "name": "python",
   "nbconvert_exporter": "python",
   "pygments_lexer": "ipython3",
   "version": "3.10.11"
  }
 },
 "nbformat": 4,
 "nbformat_minor": 5
}
