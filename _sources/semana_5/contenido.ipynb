{
 "cells": [
  {
   "cell_type": "markdown",
   "id": "c24637cc-948f-4ca3-beba-9c806c48b2f8",
   "metadata": {},
   "source": [
    "# Contenido"
   ]
  },
  {
   "cell_type": "code",
   "execution_count": null,
   "id": "1996f174-10b9-422b-8c99-65c8481aff5f",
   "metadata": {
    "tags": []
   },
   "outputs": [],
   "source": [
    "%%capture --no-display\n",
    "import matplotlib.pyplot as plt\n",
    "import numpy as np\n",
    "\n",
    "with plt.xkcd():\n",
    "    x = np.linspace(0, 10, 100)\n",
    "    y = np.exp(x)\n",
    "    plt.plot(x,y)\n",
    "    plt.title(\"Cosas que puedes hacer en Python cuando aprendes.\")\n",
    "    plt.xlabel(\"Días\")\n",
    "    plt.ylabel(\"Número de cosas\")\n",
    "    plt.show()"
   ]
  },
  {
   "cell_type": "markdown",
   "id": "a4434ac7-ffaf-47e7-ac22-adf6ff242023",
   "metadata": {},
   "source": [
    "Los siguientes contenidos serán presentados en [una sesión de videoconferencia](sesion.md).\n",
    "Puedes encontrar en [este enlace](slides/slides.pdf) las slides usadas como soporte."
   ]
  },
  {
   "cell_type": "markdown",
   "id": "426d5784-9f09-492f-91fd-d719add0d69d",
   "metadata": {},
   "source": [
    "## Gestión de ficheros\n",
    "\n",
    "Veamos ahora como puedo abrir un fichero para escribir información en disco."
   ]
  },
  {
   "cell_type": "code",
   "execution_count": null,
   "id": "3700c475-2875-4291-a24b-23d65f1f423e",
   "metadata": {
    "tags": []
   },
   "outputs": [],
   "source": [
    "mi_fichero = open('fichero_de_prueba.txt', 'w') # 'w' especifica que el fichero permite la escritura"
   ]
  },
  {
   "cell_type": "code",
   "execution_count": null,
   "id": "5fdafdcf-b8a5-4b8e-b071-8c480df9175e",
   "metadata": {
    "tags": []
   },
   "outputs": [],
   "source": [
    "type(mi_fichero)"
   ]
  },
  {
   "cell_type": "markdown",
   "id": "de81cf05-5e83-48ed-8e52-c086fd596278",
   "metadata": {},
   "source": [
    "Si estás ejecutando este notebook de manera local con tu jupyter lab, verás que en el navegador de archivos de tu izquierda acaba de aparecer el nuevo fichero."
   ]
  },
  {
   "cell_type": "code",
   "execution_count": null,
   "id": "b8b66ed1-5ad4-4ac2-b671-9cdbc69672d1",
   "metadata": {
    "tags": []
   },
   "outputs": [],
   "source": [
    "mi_fichero.write('hola!\\n') # \\n sirve como finalizar linea"
   ]
  },
  {
   "cell_type": "code",
   "execution_count": null,
   "id": "7a32c1f2-cb22-48f2-854c-b4d846d203e5",
   "metadata": {
    "tags": []
   },
   "outputs": [],
   "source": [
    "mi_fichero.write('esta es la segunda linea\\n')"
   ]
  },
  {
   "cell_type": "markdown",
   "id": "c795ce77-da0f-4e5b-b9b0-145e85e70058",
   "metadata": {},
   "source": [
    "`mi_fichero` es un objeto definido por Python para entrada y salida de datos. Tiene métodos como `write()` cuya función es operar con el objeto. En este caso `write()` escribe en el fichero y devuelve como salida la cantidad de bytes escritos. Otro método que necesitarás es `close()`"
   ]
  },
  {
   "cell_type": "code",
   "execution_count": null,
   "id": "ff46f129-1d22-427b-845c-7ba50ed20370",
   "metadata": {
    "tags": []
   },
   "outputs": [],
   "source": [
    "mi_fichero.close()"
   ]
  },
  {
   "cell_type": "code",
   "execution_count": null,
   "id": "de997b39-c491-46b0-b716-421fd896bff7",
   "metadata": {
    "tags": []
   },
   "outputs": [],
   "source": [
    "print('Está el fichero cerrado?')\n",
    "print(mi_fichero.closed) # `close` es un atributo que registra True o False según esté cerrado o abierto."
   ]
  },
  {
   "cell_type": "markdown",
   "id": "7c1e15e3-1c9b-4258-ad78-17ad63c57b4b",
   "metadata": {},
   "source": [
    "Ahora abriremos el fichero y lo leeremos. Pero antes, vamos a borrar mi fichero para hacer el caso más realista, lo habitual es que leamos un fichero pre-existente."
   ]
  },
  {
   "cell_type": "code",
   "execution_count": null,
   "id": "975e2254-34e4-4eba-a4f7-e75c1846532d",
   "metadata": {
    "tags": []
   },
   "outputs": [],
   "source": [
    "del(mi_fichero)"
   ]
  },
  {
   "cell_type": "code",
   "execution_count": null,
   "id": "e64d872b-b9e4-47b4-8282-44cf1726b782",
   "metadata": {
    "tags": []
   },
   "outputs": [],
   "source": [
    "# Protegemos el fichero contra escritura declarándolo de lectura con 'r'\n",
    "mi_fichero = open('fichero_de_prueba.txt', 'r')"
   ]
  },
  {
   "cell_type": "code",
   "execution_count": null,
   "id": "8a67868b-762d-4143-b0ab-e297e202dc12",
   "metadata": {
    "tags": []
   },
   "outputs": [],
   "source": [
    "contenido = mi_fichero.read()"
   ]
  },
  {
   "cell_type": "code",
   "execution_count": null,
   "id": "ffbe5fe1-673c-457b-a0c4-51926e274df8",
   "metadata": {
    "tags": []
   },
   "outputs": [],
   "source": [
    "mi_fichero.close()"
   ]
  },
  {
   "cell_type": "code",
   "execution_count": null,
   "id": "d7794488-d6ee-4f69-98b5-e3866d73b689",
   "metadata": {
    "tags": []
   },
   "outputs": [],
   "source": [
    "print(contenido)"
   ]
  },
  {
   "cell_type": "code",
   "execution_count": null,
   "id": "d110eb96-21a9-4200-9fcc-283b9e60bdfa",
   "metadata": {
    "tags": []
   },
   "outputs": [],
   "source": [
    "del(mi_fichero)"
   ]
  },
  {
   "cell_type": "code",
   "execution_count": null,
   "id": "bbb1a349-d30d-4a5b-b38f-eb411a9587eb",
   "metadata": {
    "tags": []
   },
   "outputs": [],
   "source": [
    "mi_fichero = open('fichero_de_prueba.txt', 'r')\n",
    "primera_linea = mi_fichero.readline()\n",
    "segunda_linea = mi_fichero.readline()\n",
    "mi_fichero.close()\n",
    "del(mi_fichero)"
   ]
  },
  {
   "cell_type": "code",
   "execution_count": null,
   "id": "12963a90-caff-420b-8c08-ba0615cf80b9",
   "metadata": {
    "tags": []
   },
   "outputs": [],
   "source": [
    "print(segunda_linea)"
   ]
  },
  {
   "cell_type": "markdown",
   "id": "94eb4546-5597-46f2-b54c-64048043fe9d",
   "metadata": {},
   "source": [
    "Ya podemos antes de concluir esta sección borrar el fichero. Esto lo puedes hacer de dos maneras:\n",
    "- Puedes acudir al navegador de archivos de Jupyter y con el botón derecho sobre 'fichero_de_prueba.txt' seleccionar 'Delete'.\n",
    "- Puedes importar la librería de python `os` y usar uno de sus métodos cuya función es borrar ficheros del disco duro. Veamos este ejemplo en las siguientes celdas."
   ]
  },
  {
   "cell_type": "code",
   "execution_count": null,
   "id": "4cfe69c6-ceac-4ac9-88e2-b557783537db",
   "metadata": {
    "tags": []
   },
   "outputs": [],
   "source": [
    "import os"
   ]
  },
  {
   "cell_type": "code",
   "execution_count": null,
   "id": "9ec50ee2-ed6b-497b-bdec-02d3b5545610",
   "metadata": {
    "tags": []
   },
   "outputs": [],
   "source": [
    "dir(os)"
   ]
  },
  {
   "cell_type": "code",
   "execution_count": null,
   "id": "bfd106ae-748f-4368-9ee1-69e9dc8112b0",
   "metadata": {
    "tags": []
   },
   "outputs": [],
   "source": [
    "help(os.remove)"
   ]
  },
  {
   "cell_type": "code",
   "execution_count": null,
   "id": "d027e738-7794-4f08-8b01-2ad8c47e0c7a",
   "metadata": {
    "tags": []
   },
   "outputs": [],
   "source": [
    "os.remove('fichero_de_prueba.txt')"
   ]
  },
  {
   "cell_type": "markdown",
   "id": "7b3397ce-a483-4c1b-a217-53ce26bfc2e8",
   "metadata": {
    "tags": []
   },
   "source": [
    "Si has optado por borrar el fichero haciendo uso de la librería `os`, puedes comprobar que este desapareció del navegador de archivos de Jupyter Lab que se encuentra a la izquierda de este notebook."
   ]
  },
  {
   "cell_type": "markdown",
   "id": "110bb5c6-fe85-429d-aeb8-18fbd77fc07f",
   "metadata": {},
   "source": [
    "## Numpy\n",
    "\n",
    "Para introducir Numpy, te sugerimos que sigas el contenido de [este jupyter notebook](numpy.ipynb).\n",
    "\n",
    "## Matplotlib\n",
    "\n",
    "Para introducir Matplotlib, te sugerimos que sigas el contenido de [este jupyter notebook](matplotlib.ipynb).\n",
    "\n",
    "```{eval-rst}\n",
    "\n",
    ".. toctree::\n",
    "   :maxdepth: 1\n",
    "   :hidden:\n",
    "\n",
    "   numpy.ipynb\n",
    "   matplotlib.ipynb\n",
    "\n",
    "```\n"
   ]
  },
  {
   "cell_type": "code",
   "execution_count": null,
   "id": "bed03821-5970-454a-b120-d06e50de55e8",
   "metadata": {},
   "outputs": [],
   "source": []
  }
 ],
 "metadata": {
  "kernelspec": {
   "display_name": "Python 3 (ipykernel)",
   "language": "python",
   "name": "python3"
  },
  "language_info": {
   "codemirror_mode": {
    "name": "ipython",
    "version": 3
   },
   "file_extension": ".py",
   "mimetype": "text/x-python",
   "name": "python",
   "nbconvert_exporter": "python",
   "pygments_lexer": "ipython3",
   "version": "3.10.10"
  }
 },
 "nbformat": 4,
 "nbformat_minor": 5
}
